{
 "cells": [
  {
   "cell_type": "code",
   "execution_count": 5,
   "id": "06b3b55b-5fa2-46a6-8723-ddb7ba6f5202",
   "metadata": {},
   "outputs": [],
   "source": [
    "import ccxt\n",
    "\n",
    "from pandas import DataFrame"
   ]
  },
  {
   "cell_type": "markdown",
   "metadata": {},
   "source": [
    "### Public APIs include the following:\n",
    "instruments/trading pairs\n",
    "price feeds (exchange rates)\n",
    "order books (L1, L2, L3...)\n",
    "trade history (closed orders, transactions, executions)\n",
    "tickers (spot / 24h price)\n",
    "OHLCV series for charting\n",
    "other public endpoints\n",
    "\n",
    "### Private APIs allow the following: (Account specific information)\n",
    "manage personal account info\n",
    "query account balances\n",
    "trade by making market and limit orders\n",
    "create deposit addresses and fund accounts\n",
    "request withdrawal of fiat and crypto funds\n",
    "query personal open / closed orders\n",
    "query positions in margin/leverage trading\n",
    "get ledger history\n",
    "transfer funds between accounts\n",
    "use merchant services"
   ]
  },
  {
   "cell_type": "code",
   "execution_count": 3,
   "metadata": {},
   "outputs": [
    {
     "name": "stdout",
     "output_type": "stream",
     "text": [
      "['__annotations__', '__class__', '__del__', '__delattr__', '__dict__', '__dir__', '__doc__', '__eq__', '__format__', '__ge__', '__getattribute__', '__getstate__', '__gt__', '__hash__', '__init__', '__init_subclass__', '__le__', '__lt__', '__module__', '__ne__', '__new__', '__reduce__', '__reduce_ex__', '__repr__', '__setattr__', '__sizeof__', '__str__', '__subclasshook__', '__weakref__', 'account', 'accountId', 'accounts', 'addMargin', 'addPaginationCursorToResult', 'add_margin', 'add_pagination_cursor_to_result', 'afterConstruct', 'after_construct', 'aggregate', 'aiohttpProxy', 'aiohttpTrustEnv', 'aiohttp_proxy', 'aiohttp_trust_env', 'alias', 'amountToPrecision', 'amount_to_precision', 'api', 'apiKey', 'appendInactiveMarkets', 'append_inactive_markets', 'arrayConcat', 'arraySlice', 'array_concat', 'array_slice', 'assignDefaultDepositWithdrawFees', 'assign_default_deposit_withdraw_fees', 'asyncioLoop', 'asyncio_loop', 'axolotl', 'balance', 'base16ToBinary', 'base16_to_binary', 'base58Alphabet', 'base58Decoder', 'base58Encoder', 'base58ToBinary', 'base58_alphabet', 'base58_decoder', 'base58_encoder', 'base58_to_binary', 'base64ToBinary', 'base64ToString', 'base64_to_binary', 'base64_to_string', 'baseCurrencies', 'base_currencies', 'bidsasks', 'binaryConcat', 'binaryConcatArray', 'binaryToBase16', 'binaryToBase58', 'binaryToBase64', 'binary_concat', 'binary_concat_array', 'binary_to_base16', 'binary_to_base58', 'binary_to_base64', 'borrowCrossMargin', 'borrowIsolatedMargin', 'borrowMargin', 'borrow_cross_margin', 'borrow_isolated_margin', 'borrow_margin', 'buildOhlcvc', 'build_ohlcvc', 'calculateFee', 'calculateRateLimiterCost', 'calculate_fee', 'calculate_rate_limiter_cost', 'cancelAllOrders', 'cancelAllOrdersAfter', 'cancelAllOrdersWs', 'cancelOrder', 'cancelOrderWs', 'cancelOrders', 'cancelOrdersForSymbols', 'cancelOrdersWs', 'cancelUnifiedOrder', 'cancel_all_orders', 'cancel_all_orders_after', 'cancel_all_orders_ws', 'cancel_order', 'cancel_order_ws', 'cancel_orders', 'cancel_orders_for_symbols', 'cancel_orders_ws', 'cancel_unified_order', 'capitalize', 'certified', 'checkAddress', 'checkConflictingProxies', 'checkOrderArguments', 'checkProxySettings', 'checkProxyUrlSettings', 'checkRequiredArgument', 'checkRequiredCredentials', 'checkRequiredDependencies', 'checkRequiredMarginArgument', 'checkRequiredVersion', 'checkWsProxySettings', 'check_address', 'check_conflicting_proxies', 'check_order_arguments', 'check_proxy_settings', 'check_proxy_url_settings', 'check_required_argument', 'check_required_credentials', 'check_required_dependencies', 'check_required_margin_argument', 'check_required_version', 'check_ws_proxy_settings', 'clone', 'closeAllPositions', 'closePosition', 'close_all_positions', 'close_position', 'codes', 'commonCurrencies', 'commonCurrencyCode', 'common_currency_code', 'convertExpireDate', 'convertExpireDateToMarketIdDate', 'convertMarketIdExpireDate', 'convertOHLCVToTradingView', 'convertToBigInt', 'convertTradingViewToOHLCV', 'convertTypeToAccount', 'convert_expire_date', 'convert_expire_date_to_market_id_date', 'convert_market_id_expire_date', 'convert_ohlcv_to_trading_view', 'convert_to_big_int', 'convert_trading_view_to_ohlcv', 'convert_type_to_account', 'costToPrecision', 'cost_to_precision', 'countries', 'crc32', 'createDepositAddress', 'createExpiredOptionMarket', 'createLimitBuyOrder', 'createLimitBuyOrderWs', 'createLimitOrder', 'createLimitOrderWs', 'createLimitSellOrder', 'createLimitSellOrderWs', 'createMarketBuyOrder', 'createMarketBuyOrderWithCost', 'createMarketBuyOrderWs', 'createMarketOrder', 'createMarketOrderWithCost', 'createMarketOrderWithCostWs', 'createMarketOrderWs', 'createMarketSellOrder', 'createMarketSellOrderWithCost', 'createMarketSellOrderWs', 'createNetworksByIdObject', 'createOHLCVObject', 'createOrder', 'createOrderWithTakeProfitAndStopLoss', 'createOrderWithTakeProfitAndStopLossWs', 'createOrderWs', 'createOrders', 'createPostOnlyOrder', 'createPostOnlyOrderWs', 'createReduceOnlyOrder', 'createReduceOnlyOrderWs', 'createSafeDictionary', 'createStopLimitOrder', 'createStopLimitOrderWs', 'createStopLossOrder', 'createStopLossOrderWs', 'createStopMarketOrder', 'createStopMarketOrderWs', 'createStopOrder', 'createStopOrderWs', 'createTakeProfitOrder', 'createTakeProfitOrderWs', 'createTrailingAmountOrder', 'createTrailingAmountOrderWs', 'createTrailingPercentOrder', 'createTrailingPercentOrderWs', 'createTriggerOrder', 'createTriggerOrderWs', 'create_deposit_address', 'create_expired_option_market', 'create_limit_buy_order', 'create_limit_buy_order_ws', 'create_limit_order', 'create_limit_order_ws', 'create_limit_sell_order', 'create_limit_sell_order_ws', 'create_market_buy_order', 'create_market_buy_order_with_cost', 'create_market_buy_order_ws', 'create_market_order', 'create_market_order_with_cost', 'create_market_order_with_cost_ws', 'create_market_order_ws', 'create_market_sell_order', 'create_market_sell_order_with_cost', 'create_market_sell_order_ws', 'create_networks_by_id_object', 'create_ohlcv_object', 'create_order', 'create_order_with_take_profit_and_stop_loss', 'create_order_with_take_profit_and_stop_loss_ws', 'create_order_ws', 'create_orders', 'create_post_only_order', 'create_post_only_order_ws', 'create_reduce_only_order', 'create_reduce_only_order_ws', 'create_safe_dictionary', 'create_stop_limit_order', 'create_stop_limit_order_ws', 'create_stop_loss_order', 'create_stop_loss_order_ws', 'create_stop_market_order', 'create_stop_market_order_ws', 'create_stop_order', 'create_stop_order_ws', 'create_take_profit_order', 'create_take_profit_order_ws', 'create_trailing_amount_order', 'create_trailing_amount_order_ws', 'create_trailing_percent_order', 'create_trailing_percent_order_ws', 'create_trigger_order', 'create_trigger_order_ws', 'currencies', 'currenciesById', 'currencies_by_id', 'currency', 'currencyToPrecision', 'currency_to_precision', 'decimalToPrecision', 'decimal_to_precision', 'decode', 'deepExtend', 'deep_extend', 'defaultNetworkCode', 'default_network_code', 'depositWithdrawFee', 'deposit_withdraw_fee', 'describe', 'dmy', 'ecdsa', 'eddsa', 'editLimitBuyOrder', 'editLimitOrder', 'editLimitSellOrder', 'editOrder', 'editOrderWs', 'edit_limit_buy_order', 'edit_limit_order', 'edit_limit_sell_order', 'edit_order', 'edit_order_ws', 'enableLastHttpResponse', 'enableLastJsonResponse', 'enableLastResponseHeaders', 'enableRateLimit', 'encode', 'encodeUriComponent', 'encode_uri_component', 'ethAbiEncode', 'ethEncodeStructuredData', 'eth_abi_encode', 'eth_encode_structured_data', 'exceptions', 'extend', 'extendExchangeOptions', 'extend_exchange_options', 'extractParams', 'extract_params', 'feeToPrecision', 'fee_to_precision', 'fees', 'fetch', 'fetch2', 'fetchAccounts', 'fetchBalance', 'fetchBalanceWs', 'fetchBidsAsks', 'fetchBorrowInterest', 'fetchBorrowRate', 'fetchCanceledAndClosedOrders', 'fetchClosedOrders', 'fetchClosedOrdersWs', 'fetchConvertCurrencies', 'fetchConvertQuote', 'fetchCrossBorrowRate', 'fetchCrossBorrowRates', 'fetchCurrencies', 'fetchDepositAddress', 'fetchDepositAddresses', 'fetchDepositAddressesByNetwork', 'fetchDepositMethods', 'fetchDepositWithdrawFee', 'fetchDepositWithdrawFees', 'fetchDeposits', 'fetchDepositsWithdrawals', 'fetchDepositsWs', 'fetchFees', 'fetchFreeBalance', 'fetchFundingHistory', 'fetchFundingRate', 'fetchFundingRateHistory', 'fetchFundingRates', 'fetchGreeks', 'fetchIndexOHLCV', 'fetchIsolatedBorrowRate', 'fetchIsolatedBorrowRates', 'fetchL2OrderBook', 'fetchL3OrderBook', 'fetchLastPrices', 'fetchLedger', 'fetchLedgerEntriesByIds', 'fetchLedgerEntry', 'fetchLeverage', 'fetchLeverageTiers', 'fetchLeverages', 'fetchLiquidations', 'fetchMarginAdjustmentHistory', 'fetchMarginMode', 'fetchMarginModes', 'fetchMarkOHLCV', 'fetchMarketLeverageTiers', 'fetchMarkets', 'fetchMyLiquidations', 'fetchMyTrades', 'fetchMyTradesWs', 'fetchOHLCV', 'fetchOHLCVWs', 'fetchOpenInterest', 'fetchOpenInterestHistory', 'fetchOpenOrders', 'fetchOpenOrdersWs', 'fetchOption', 'fetchOptionChain', 'fetchOrder', 'fetchOrderBook', 'fetchOrderBooks', 'fetchOrderStatus', 'fetchOrderTrades', 'fetchOrderWs', 'fetchOrders', 'fetchOrdersByIds', 'fetchOrdersWs', 'fetchPaginatedCallCursor', 'fetchPaginatedCallDeterministic', 'fetchPaginatedCallDynamic', 'fetchPaginatedCallIncremental', 'fetchPartialBalance', 'fetchPaymentMethods', 'fetchPermissions', 'fetchPosition', 'fetchPositionHistory', 'fetchPositionWs', 'fetchPositions', 'fetchPositionsForSymbol', 'fetchPositionsForSymbolWs', 'fetchPositionsHistory', 'fetchPositionsRisk', 'fetchPositionsWs', 'fetchPremiumIndexOHLCV', 'fetchRestOrderBookSafe', 'fetchStatus', 'fetchTicker', 'fetchTickerWs', 'fetchTickers', 'fetchTickersWs', 'fetchTime', 'fetchTotalBalance', 'fetchTrades', 'fetchTradesWs', 'fetchTradingFee', 'fetchTradingFees', 'fetchTradingFeesWs', 'fetchTradingLimits', 'fetchTransactionFee', 'fetchTransactionFees', 'fetchTransactions', 'fetchTransfer', 'fetchTransfers', 'fetchUnifiedOrder', 'fetchUsedBalance', 'fetchWebEndpoint', 'fetchWithdrawals', 'fetchWithdrawalsWs', 'fetch_accounts', 'fetch_balance', 'fetch_balance_ws', 'fetch_bids_asks', 'fetch_borrow_interest', 'fetch_borrow_rate', 'fetch_canceled_and_closed_orders', 'fetch_closed_orders', 'fetch_closed_orders_ws', 'fetch_convert_currencies', 'fetch_convert_quote', 'fetch_cross_borrow_rate', 'fetch_cross_borrow_rates', 'fetch_currencies', 'fetch_deposit_address', 'fetch_deposit_addresses', 'fetch_deposit_addresses_by_network', 'fetch_deposit_methods', 'fetch_deposit_withdraw_fee', 'fetch_deposit_withdraw_fees', 'fetch_deposits', 'fetch_deposits_withdrawals', 'fetch_deposits_ws', 'fetch_fees', 'fetch_free_balance', 'fetch_funding_history', 'fetch_funding_rate', 'fetch_funding_rate_history', 'fetch_funding_rates', 'fetch_greeks', 'fetch_index_ohlcv', 'fetch_isolated_borrow_rate', 'fetch_isolated_borrow_rates', 'fetch_l2_order_book', 'fetch_l3_order_book', 'fetch_last_prices', 'fetch_ledger', 'fetch_ledger_entries_by_ids', 'fetch_ledger_entry', 'fetch_leverage', 'fetch_leverage_tiers', 'fetch_leverages', 'fetch_liquidations', 'fetch_margin_adjustment_history', 'fetch_margin_mode', 'fetch_margin_modes', 'fetch_mark_ohlcv', 'fetch_market_leverage_tiers', 'fetch_markets', 'fetch_my_liquidations', 'fetch_my_trades', 'fetch_my_trades_ws', 'fetch_ohlcv', 'fetch_ohlcv_ws', 'fetch_open_interest', 'fetch_open_interest_history', 'fetch_open_orders', 'fetch_open_orders_ws', 'fetch_option', 'fetch_option_chain', 'fetch_order', 'fetch_order_book', 'fetch_order_books', 'fetch_order_status', 'fetch_order_trades', 'fetch_order_ws', 'fetch_orders', 'fetch_orders_by_ids', 'fetch_orders_ws', 'fetch_paginated_call_cursor', 'fetch_paginated_call_deterministic', 'fetch_paginated_call_dynamic', 'fetch_paginated_call_incremental', 'fetch_partial_balance', 'fetch_payment_methods', 'fetch_permissions', 'fetch_position', 'fetch_position_history', 'fetch_position_ws', 'fetch_positions', 'fetch_positions_for_symbol', 'fetch_positions_for_symbol_ws', 'fetch_positions_history', 'fetch_positions_risk', 'fetch_positions_ws', 'fetch_premium_index_ohlcv', 'fetch_rest_order_book_safe', 'fetch_status', 'fetch_ticker', 'fetch_ticker_ws', 'fetch_tickers', 'fetch_tickers_ws', 'fetch_time', 'fetch_total_balance', 'fetch_trades', 'fetch_trades_ws', 'fetch_trading_fee', 'fetch_trading_fees', 'fetch_trading_fees_ws', 'fetch_trading_limits', 'fetch_transaction_fee', 'fetch_transaction_fees', 'fetch_transactions', 'fetch_transfer', 'fetch_transfers', 'fetch_unified_order', 'fetch_used_balance', 'fetch_web_endpoint', 'fetch_withdrawals', 'fetch_withdrawals_ws', 'filterBy', 'filterByArray', 'filterByArrayPositions', 'filterByArrayTickers', 'filterByCurrencySinceLimit', 'filterByLimit', 'filterBySinceLimit', 'filterBySymbol', 'filterBySymbolSinceLimit', 'filterBySymbolsSinceLimit', 'filterByValueSinceLimit', 'filter_by', 'filter_by_array', 'filter_by_array_positions', 'filter_by_array_tickers', 'filter_by_currency_since_limit', 'filter_by_limit', 'filter_by_since_limit', 'filter_by_symbol', 'filter_by_symbol_since_limit', 'filter_by_symbols_since_limit', 'filter_by_value_since_limit', 'findBroadlyMatchedKey', 'findMarketByAltnameOrId', 'findMessageHashes', 'findNearestCeiling', 'findTimeframe', 'find_broadly_matched_key', 'find_market_by_altname_or_id', 'find_message_hashes', 'find_nearest_ceiling', 'find_timeframe', 'fixStringifiedJsonMembers', 'fix_stringified_json_members', 'forceString', 'force_string', 'fundingRates', 'getCacheIndex', 'getDefaultOptions', 'getDelistedMarketById', 'getDescribeForExtendedWsExchange', 'getListFromObjectValues', 'getMarketFromSymbols', 'getObjectValueFromKeyList', 'getProperty', 'getSupportedMapping', 'getSymbolsForMarketType', 'get_cache_index', 'get_default_options', 'get_delisted_market_by_id', 'get_describe_for_extended_ws_exchange', 'get_list_from_object_values', 'get_market_from_symbols', 'get_object_value_from_key_list', 'get_property', 'get_supported_mapping', 'get_symbols_for_market_type', 'groupBy', 'group_by', 'gzipDeflate', 'gzip_deflate', 'handleContentTypeApplicationZip', 'handleDelta', 'handleDeltas', 'handleErrors', 'handleHttpStatusCode', 'handleMarginModeAndParams', 'handleMarketTypeAndParams', 'handleMaxEntriesPerRequestAndParams', 'handleNetworkCodeAndParams', 'handleOption', 'handleOptionAndParams', 'handleOptionAndParams2', 'handleParamBool', 'handleParamBool2', 'handleParamInteger', 'handleParamInteger2', 'handleParamString', 'handleParamString2', 'handlePostOnly', 'handleSubTypeAndParams', 'handleTimeInForce', 'handleTriggerAndParams', 'handleUntilOption', 'handleWithdrawTagAndParams', 'handle_delta', 'handle_deltas', 'handle_errors', 'handle_http_status_code', 'handle_margin_mode_and_params', 'handle_market_type_and_params', 'handle_max_entries_per_request_and_params', 'handle_network_code_and_params', 'handle_option', 'handle_option_and_params', 'handle_option_and_params_2', 'handle_param_bool', 'handle_param_bool_2', 'handle_param_integer', 'handle_param_integer_2', 'handle_param_string', 'handle_param_string_2', 'handle_post_only', 'handle_sub_type_and_params', 'handle_time_in_force', 'handle_trigger_and_params', 'handle_until_option', 'handle_withdraw_tag_and_params', 'has', 'hash', 'headers', 'hmac', 'hostname', 'httpExceptions', 'httpProxy', 'httpProxyCallback', 'http_proxy', 'http_proxy_callback', 'httpsProxy', 'httpsProxyCallback', 'https_proxy', 'https_proxy_callback', 'id', 'ids', 'implodeHostname', 'implodeParams', 'implode_hostname', 'implode_params', 'inArray', 'in_array', 'indexBy', 'index_by', 'intToBase16', 'int_to_base16', 'integerPrecisionToAmount', 'integer_precision_to_amount', 'invertFlatStringDictionary', 'invert_flat_string_dictionary', 'isDecimalPrecision', 'isEmpty', 'isJsonEncodedObject', 'isPostOnly', 'isRoundNumber', 'isSignificantPrecision', 'isTextResponse', 'isTickPrecision', 'isTriggerOrder', 'is_decimal_precision', 'is_empty', 'is_json_encoded_object', 'is_post_only', 'is_round_number', 'is_significant_precision', 'is_text_response', 'is_tick_precision', 'is_trigger_order', 'iso8601', 'json', 'jwt', 'keyExists', 'key_exists', 'keysort', 'lastHttpResponse', 'lastJsonResponse', 'lastRequestBody', 'lastRequestHeaders', 'lastRequestUrl', 'lastResponseHeaders', 'lastRestPollTimestamp', 'lastRestRequestTimestamp', 'last_http_response', 'last_json_response', 'last_request_body', 'last_request_headers', 'last_request_url', 'last_response_headers', 'limits', 'liquidations', 'loadAccounts', 'loadMarkets', 'loadTimeDifference', 'loadTradingLimits', 'load_accounts', 'load_markets', 'load_time_difference', 'load_trading_limits', 'loadedFees', 'loaded_fees', 'log', 'logger', 'market', 'marketCodes', 'marketId', 'marketIds', 'marketSymbols', 'market_codes', 'market_id', 'market_ids', 'market_symbols', 'markets', 'marketsById', 'marketsForSymbols', 'markets_by_id', 'markets_for_symbols', 'microseconds', 'milliseconds', 'minFundingAddressLength', 'msec', 'myLiquidations', 'myTrades', 'name', 'networkCodeToId', 'networkIdToCode', 'network_code_to_id', 'network_id_to_code', 'nonce', 'number', 'numberToBE', 'numberToLE', 'numberToString', 'number_to_be', 'number_to_le', 'number_to_string', 'oath', 'ohlcvs', 'omit', 'omitZero', 'omit_zero', 'onJsonResponse', 'onRestResponse', 'on_json_response', 'on_rest_response', 'options', 'orderRequest', 'order_request', 'orderbooks', 'ordered', 'orders', 'origin', 'packb', 'paddingMode', 'parse8601', 'parseAccount', 'parseAccountType', 'parseAccounts', 'parseBalance', 'parseBidAsk', 'parseBidsAsks', 'parseBorrowInterest', 'parseBorrowInterests', 'parseConversion', 'parseConversions', 'parseDate', 'parseDepositAddress', 'parseDepositAddresses', 'parseDepositWithdrawFee', 'parseDepositWithdrawFees', 'parseFundingRate', 'parseFundingRateHistories', 'parseFundingRateHistory', 'parseFundingRates', 'parseGreeks', 'parseIncome', 'parseIncomes', 'parseIsolatedBorrowRate', 'parseIsolatedBorrowRates', 'parseJson', 'parseJsonResponse', 'parseLastPrice', 'parseLastPrices', 'parseLedger', 'parseLedgerEntry', 'parseLedgerEntryType', 'parseLeverage', 'parseLeverageTiers', 'parseLeverages', 'parseLiquidation', 'parseLiquidations', 'parseMarginMode', 'parseMarginModes', 'parseMarginModification', 'parseMarginModifications', 'parseMarket', 'parseMarketLeverageTiers', 'parseMarkets', 'parseNetwork', 'parseNumber', 'parseOHLCV', 'parseOhlcvs', 'parseOpenInterest', 'parseOpenInterests', 'parseOption', 'parseOptionChain', 'parseOrder', 'parseOrderBook', 'parseOrderStatus', 'parseOrderType', 'parseOrders', 'parsePosition', 'parsePositions', 'parsePrecision', 'parseTicker', 'parseTickers', 'parseTimeframe', 'parseToInt', 'parseToNumeric', 'parseTrade', 'parseTrades', 'parseTradingFee', 'parseTradingViewOHLCV', 'parseTransaction', 'parseTransactionStatus', 'parseTransactions', 'parseTransactionsByType', 'parseTransfer', 'parseTransfers', 'parseWsOHLCV', 'parseWsOhlcvs', 'parseWsOrder', 'parseWsOrderTrade', 'parseWsTrade', 'parse_account', 'parse_account_type', 'parse_accounts', 'parse_balance', 'parse_bid_ask', 'parse_bids_asks', 'parse_borrow_interest', 'parse_borrow_interests', 'parse_conversion', 'parse_conversions', 'parse_date', 'parse_deposit_address', 'parse_deposit_addresses', 'parse_deposit_withdraw_fee', 'parse_deposit_withdraw_fees', 'parse_funding_rate', 'parse_funding_rate_histories', 'parse_funding_rate_history', 'parse_funding_rates', 'parse_greeks', 'parse_income', 'parse_incomes', 'parse_isolated_borrow_rate', 'parse_isolated_borrow_rates', 'parse_json', 'parse_last_price', 'parse_last_prices', 'parse_ledger', 'parse_ledger_entry', 'parse_ledger_entry_type', 'parse_leverage', 'parse_leverage_tiers', 'parse_leverages', 'parse_liquidation', 'parse_liquidations', 'parse_margin_mode', 'parse_margin_modes', 'parse_margin_modification', 'parse_margin_modifications', 'parse_market', 'parse_market_leverage_tiers', 'parse_markets', 'parse_network', 'parse_number', 'parse_ohlcv', 'parse_ohlcvs', 'parse_open_interest', 'parse_open_interests', 'parse_option', 'parse_option_chain', 'parse_order', 'parse_order_book', 'parse_order_status', 'parse_order_type', 'parse_orders', 'parse_position', 'parse_positions', 'parse_precision', 'parse_ticker', 'parse_tickers', 'parse_timeframe', 'parse_to_int', 'parse_to_numeric', 'parse_trade', 'parse_trades', 'parse_trading_fee', 'parse_trading_view_ohlcv', 'parse_transaction', 'parse_transaction_status', 'parse_transactions', 'parse_transactions_by_type', 'parse_transfer', 'parse_transfers', 'parse_ws_ohlcv', 'parse_ws_ohlcvs', 'parse_ws_order', 'parse_ws_order_trade', 'parse_ws_trade', 'password', 'pluck', 'positions', 'precision', 'precisionFromString', 'precisionMode', 'precision_from_string', 'prepareRequestHeaders', 'prepare_request_headers', 'priceToPrecision', 'price_to_precision', 'privateKey', 'privateKeyToAddress', 'privatePostAccountTransfer', 'privatePostAccounttransfer', 'privatePostAddExport', 'privatePostAddOrder', 'privatePostAddOrderBatch', 'privatePostAddexport', 'privatePostAddorder', 'privatePostAddorderbatch', 'privatePostBalance', 'privatePostBalanceEx', 'privatePostBalanceex', 'privatePostCancelAll', 'privatePostCancelAllOrdersAfter', 'privatePostCancelOrder', 'privatePostCancelOrderBatch', 'privatePostCancelall', 'privatePostCancelallordersafter', 'privatePostCancelorder', 'privatePostCancelorderbatch', 'privatePostClosedOrders', 'privatePostClosedorders', 'privatePostCreateSubaccount', 'privatePostCreatesubaccount', 'privatePostDepositAddresses', 'privatePostDepositMethods', 'privatePostDepositStatus', 'privatePostDepositaddresses', 'privatePostDepositmethods', 'privatePostDepositstatus', 'privatePostEarnAllocate', 'privatePostEarnAllocateStatus', 'privatePostEarnAllocatestatus', 'privatePostEarnAllocations', 'privatePostEarnDeallocate', 'privatePostEarnDeallocateStatus', 'privatePostEarnDeallocatestatus', 'privatePostEarnStrategies', 'privatePostEditOrder', 'privatePostEditorder', 'privatePostExportStatus', 'privatePostExportstatus', 'privatePostGetWebSocketsToken', 'privatePostGetwebsocketstoken', 'privatePostLedgers', 'privatePostOpenOrders', 'privatePostOpenPositions', 'privatePostOpenorders', 'privatePostOpenpositions', 'privatePostQueryLedgers', 'privatePostQueryOrders', 'privatePostQueryTrades', 'privatePostQueryledgers', 'privatePostQueryorders', 'privatePostQuerytrades', 'privatePostRemoveExport', 'privatePostRemoveexport', 'privatePostRetrieveExport', 'privatePostRetrieveexport', 'privatePostTradeBalance', 'privatePostTradeVolume', 'privatePostTradebalance', 'privatePostTradesHistory', 'privatePostTradeshistory', 'privatePostTradevolume', 'privatePostWalletTransfer', 'privatePostWallettransfer', 'privatePostWithdraw', 'privatePostWithdrawAddresses', 'privatePostWithdrawCancel', 'privatePostWithdrawInfo', 'privatePostWithdrawMethods', 'privatePostWithdrawStatus', 'privatePostWithdrawaddresses', 'privatePostWithdrawcancel', 'privatePostWithdrawinfo', 'privatePostWithdrawmethods', 'privatePostWithdrawstatus', 'private_post_accounttransfer', 'private_post_addexport', 'private_post_addorder', 'private_post_addorderbatch', 'private_post_balance', 'private_post_balanceex', 'private_post_cancelall', 'private_post_cancelallordersafter', 'private_post_cancelorder', 'private_post_cancelorderbatch', 'private_post_closedorders', 'private_post_createsubaccount', 'private_post_depositaddresses', 'private_post_depositmethods', 'private_post_depositstatus', 'private_post_earn_allocate', 'private_post_earn_allocatestatus', 'private_post_earn_allocations', 'private_post_earn_deallocate', 'private_post_earn_deallocatestatus', 'private_post_earn_strategies', 'private_post_editorder', 'private_post_exportstatus', 'private_post_getwebsocketstoken', 'private_post_ledgers', 'private_post_openorders', 'private_post_openpositions', 'private_post_queryledgers', 'private_post_queryorders', 'private_post_querytrades', 'private_post_removeexport', 'private_post_retrieveexport', 'private_post_tradebalance', 'private_post_tradeshistory', 'private_post_tradevolume', 'private_post_wallettransfer', 'private_post_withdraw', 'private_post_withdrawaddresses', 'private_post_withdrawcancel', 'private_post_withdrawinfo', 'private_post_withdrawmethods', 'private_post_withdrawstatus', 'pro', 'proxies', 'proxy', 'proxyUrl', 'proxyUrlCallback', 'proxy_url', 'proxy_url_callback', 'publicGetAssetPairs', 'publicGetAssetpairs', 'publicGetAssets', 'publicGetDepth', 'publicGetOHLC', 'publicGetOhlc', 'publicGetSpread', 'publicGetSystemStatus', 'publicGetSystemstatus', 'publicGetTicker', 'publicGetTime', 'publicGetTrades', 'public_get_assetpairs', 'public_get_assets', 'public_get_depth', 'public_get_ohlc', 'public_get_spread', 'public_get_systemstatus', 'public_get_ticker', 'public_get_time', 'public_get_trades', 'quoteCurrencies', 'quoteJsonNumbers', 'quote_currencies', 'randomBytes', 'random_bytes', 'rateLimit', 'rateLimitMaxTokens', 'rateLimitTokens', 'rateLimitUpdateTime', 'rawencode', 'reduceFees', 'reduceFeesByCurrency', 'reduceMargin', 'reduce_fees_by_currency', 'reduce_margin', 'remove0xPrefix', 'remove0x_prefix', 'removeRepeatedElementsFromArray', 'remove_repeated_elements_from_array', 'repayCrossMargin', 'repayIsolatedMargin', 'repayMargin', 'repay_cross_margin', 'repay_isolated_margin', 'repay_margin', 'request', 'requestsTrustEnv', 'requests_trust_env', 'requiredCredentials', 'requiresEddsa', 'resolvePath', 'resolve_path', 'restPollerLoopIsRunning', 'restRequestQueue', 'rfc2616', 'roundTimeframe', 'round_timeframe', 'rsa', 'safeBalance', 'safeBool', 'safeBool2', 'safeBoolN', 'safeCurrency', 'safeCurrencyCode', 'safeCurrencyStructure', 'safeDeterministicCall', 'safeDict', 'safeDict2', 'safeDictN', 'safeEither', 'safeFloat', 'safeFloat2', 'safeFloatN', 'safeInteger', 'safeInteger2', 'safeIntegerN', 'safeIntegerOmitZero', 'safeIntegerProduct', 'safeIntegerProduct2', 'safeIntegerProductN', 'safeLedgerEntry', 'safeLiquidation', 'safeList', 'safeList2', 'safeListN', 'safeMarket', 'safeMarketStructure', 'safeNumber', 'safeNumber2', 'safeNumberN', 'safeOpenInterest', 'safeOrder', 'safePosition', 'safeString', 'safeString2', 'safeStringLower', 'safeStringLower2', 'safeStringLowerN', 'safeStringN', 'safeStringUpper', 'safeStringUpper2', 'safeStringUpperN', 'safeSymbol', 'safeTicker', 'safeTimestamp', 'safeTimestamp2', 'safeTimestampN', 'safeTrade', 'safeValue', 'safeValue2', 'safeValueN', 'safe_balance', 'safe_bool', 'safe_bool_2', 'safe_bool_n', 'safe_currency', 'safe_currency_code', 'safe_currency_structure', 'safe_deterministic_call', 'safe_dict', 'safe_dict_2', 'safe_dict_n', 'safe_either', 'safe_float', 'safe_float_2', 'safe_float_n', 'safe_integer', 'safe_integer_2', 'safe_integer_n', 'safe_integer_omit_zero', 'safe_integer_product', 'safe_integer_product_2', 'safe_integer_product_n', 'safe_ledger_entry', 'safe_liquidation', 'safe_list', 'safe_list_2', 'safe_list_n', 'safe_market', 'safe_market_structure', 'safe_number', 'safe_number_2', 'safe_number_n', 'safe_open_interest', 'safe_order', 'safe_position', 'safe_string', 'safe_string_2', 'safe_string_lower', 'safe_string_lower_2', 'safe_string_lower_n', 'safe_string_n', 'safe_string_upper', 'safe_string_upper_2', 'safe_string_upper_n', 'safe_symbol', 'safe_ticker', 'safe_timestamp', 'safe_timestamp_2', 'safe_timestamp_n', 'safe_trade', 'safe_value', 'safe_value_2', 'safe_value_n', 'sec', 'seconds', 'secret', 'selectNetworkCodeFromUnifiedNetworks', 'selectNetworkIdFromRawNetworks', 'selectNetworkKeyFromNetworks', 'select_network_code_from_unified_networks', 'select_network_id_from_raw_networks', 'select_network_key_from_networks', 'session', 'setHeaders', 'setLeverage', 'setMargin', 'setMarginMode', 'setMarkets', 'setPositionMode', 'setProperty', 'setSandboxMode', 'setTakeProfitAndStopLossParams', 'set_headers', 'set_leverage', 'set_margin', 'set_margin_mode', 'set_markets', 'set_position_mode', 'set_property', 'set_sandbox_mode', 'set_take_profit_and_stop_loss_params', 'sign', 'signIn', 'sign_in', 'sleep', 'socksProxy', 'socksProxyCallback', 'socksProxySessions', 'socks_proxy', 'socks_proxy_callback', 'socks_proxy_sessions', 'sortBy', 'sortBy2', 'sortCursorPaginatedResult', 'sort_by', 'sort_by_2', 'sort_cursor_paginated_result', 'sslContext', 'ssl_context', 'stringToBase64', 'stringToCharsArray', 'string_to_base64', 'string_to_chars_array', 'strip', 'substituteCommonCurrencyCodes', 'sum', 'symbol', 'symbols', 'synchronous', 'throttle', 'throwBroadlyMatchedException', 'throwExactlyMatchedException', 'throw_broadly_matched_exception', 'throw_exactly_matched_exception', 'tickers', 'timeframes', 'timeout', 'toArray', 'to_array', 'token', 'tokenBucket', 'totp', 'trades', 'transactions', 'transfer', 'transferOut', 'transfer_out', 'triggerOrders', 'truncate', 'truncateToString', 'truncate_to_string', 'trustEnv', 'trust_env', 'twofa', 'uid', 'unCamelCase', 'un_camel_case', 'unique', 'urlencode', 'urlencodeBase64', 'urlencodeNested', 'urlencodeWithArrayRepeat', 'urlencode_base64', 'urlencode_nested', 'urlencode_with_array_repeat', 'urls', 'usec', 'userAgent', 'userAgents', 'user_agent', 'uuid', 'uuid16', 'uuid22', 'uuidv1', 'validateClientSsl', 'validateServerSsl', 'valueIsDefined', 'value_is_defined', 'verbose', 'verify', 'version', 'vwap', 'walletAddress', 'watchBalance', 'watchBidsAsks', 'watchFundingRate', 'watchFundingRates', 'watchFundingRatesForSymbols', 'watchLiquidations', 'watchLiquidationsForSymbols', 'watchMyLiquidations', 'watchMyLiquidationsForSymbols', 'watchMyTrades', 'watchMyTradesForSymbols', 'watchOHLCV', 'watchOHLCVForSymbols', 'watchOrderBook', 'watchOrderBookForSymbols', 'watchOrders', 'watchOrdersForSymbols', 'watchPosition', 'watchPositionForSymbols', 'watchPositions', 'watchTicker', 'watchTickers', 'watchTrades', 'watchTradesForSymbols', 'watch_balance', 'watch_bids_asks', 'watch_funding_rate', 'watch_funding_rates', 'watch_funding_rates_for_symbols', 'watch_liquidations', 'watch_liquidations_for_symbols', 'watch_my_liquidations', 'watch_my_liquidations_for_symbols', 'watch_my_trades', 'watch_my_trades_for_symbols', 'watch_ohlcv', 'watch_ohlcv_for_symbols', 'watch_order_book', 'watch_order_book_for_symbols', 'watch_orders', 'watch_orders_for_symbols', 'watch_position', 'watch_position_for_symbols', 'watch_positions', 'watch_ticker', 'watch_tickers', 'watch_trades', 'watch_trades_for_symbols', 'withdraw', 'wsProxy', 'wsSocksProxy', 'ws_proxy', 'ws_socks_proxy', 'wssProxy', 'wss_proxy', 'ymd', 'ymdhms', 'yymmdd', 'yyyymmdd', 'zendeskGet201893608', 'zendeskGet360000292886', 'zendesk_get_201893608', 'zendesk_get_360000292886']\n"
     ]
    }
   ],
   "source": [
    "print(dir(ccxt.kraken()))"
   ]
  },
  {
   "cell_type": "code",
   "execution_count": 6,
   "metadata": {},
   "outputs": [
    {
     "data": {
      "text/html": [
       "<div>\n",
       "<style scoped>\n",
       "    .dataframe tbody tr th:only-of-type {\n",
       "        vertical-align: middle;\n",
       "    }\n",
       "\n",
       "    .dataframe tbody tr th {\n",
       "        vertical-align: top;\n",
       "    }\n",
       "\n",
       "    .dataframe thead th {\n",
       "        text-align: right;\n",
       "    }\n",
       "</style>\n",
       "<table border=\"1\" class=\"dataframe\">\n",
       "  <thead>\n",
       "    <tr style=\"text-align: right;\">\n",
       "      <th></th>\n",
       "      <th>0</th>\n",
       "    </tr>\n",
       "  </thead>\n",
       "  <tbody>\n",
       "    <tr>\n",
       "      <th>0</th>\n",
       "      <td>__annotations__</td>\n",
       "    </tr>\n",
       "    <tr>\n",
       "      <th>1</th>\n",
       "      <td>__class__</td>\n",
       "    </tr>\n",
       "    <tr>\n",
       "      <th>2</th>\n",
       "      <td>__del__</td>\n",
       "    </tr>\n",
       "    <tr>\n",
       "      <th>3</th>\n",
       "      <td>__delattr__</td>\n",
       "    </tr>\n",
       "    <tr>\n",
       "      <th>4</th>\n",
       "      <td>__dict__</td>\n",
       "    </tr>\n",
       "    <tr>\n",
       "      <th>...</th>\n",
       "      <td>...</td>\n",
       "    </tr>\n",
       "    <tr>\n",
       "      <th>1402</th>\n",
       "      <td>yyyymmdd</td>\n",
       "    </tr>\n",
       "    <tr>\n",
       "      <th>1403</th>\n",
       "      <td>zendeskGet201893608</td>\n",
       "    </tr>\n",
       "    <tr>\n",
       "      <th>1404</th>\n",
       "      <td>zendeskGet360000292886</td>\n",
       "    </tr>\n",
       "    <tr>\n",
       "      <th>1405</th>\n",
       "      <td>zendesk_get_201893608</td>\n",
       "    </tr>\n",
       "    <tr>\n",
       "      <th>1406</th>\n",
       "      <td>zendesk_get_360000292886</td>\n",
       "    </tr>\n",
       "  </tbody>\n",
       "</table>\n",
       "<p>1407 rows × 1 columns</p>\n",
       "</div>"
      ],
      "text/plain": [
       "                             0\n",
       "0              __annotations__\n",
       "1                    __class__\n",
       "2                      __del__\n",
       "3                  __delattr__\n",
       "4                     __dict__\n",
       "...                        ...\n",
       "1402                  yyyymmdd\n",
       "1403       zendeskGet201893608\n",
       "1404    zendeskGet360000292886\n",
       "1405     zendesk_get_201893608\n",
       "1406  zendesk_get_360000292886\n",
       "\n",
       "[1407 rows x 1 columns]"
      ]
     },
     "execution_count": 6,
     "metadata": {},
     "output_type": "execute_result"
    }
   ],
   "source": [
    "DataFrame(dir(ccxt.kraken()))"
   ]
  }
 ],
 "metadata": {
  "kernelspec": {
   "display_name": "venv",
   "language": "python",
   "name": "python3"
  },
  "language_info": {
   "codemirror_mode": {
    "name": "ipython",
    "version": 3
   },
   "file_extension": ".py",
   "mimetype": "text/x-python",
   "name": "python",
   "nbconvert_exporter": "python",
   "pygments_lexer": "ipython3",
   "version": "3.11.9"
  }
 },
 "nbformat": 4,
 "nbformat_minor": 2
}
