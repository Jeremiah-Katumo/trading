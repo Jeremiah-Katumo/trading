{
 "cells": [
  {
   "cell_type": "code",
   "execution_count": 1,
   "id": "afdf8235-1087-4feb-83ec-02e9becdfb96",
   "metadata": {},
   "outputs": [],
   "source": [
    "from ccxt.base.decimal_to_precision import DECIMAL_PLACES  # noqa E402\n",
    "from ccxt.base.decimal_to_precision import TICK_SIZE  # noqa E402\n",
    "from ccxt.base.decimal_to_precision import NO_PADDING  # noqa E402\n",
    "from ccxt.base.decimal_to_precision import TRUNCATE  # noqa E402\n",
    "from ccxt.base.decimal_to_precision import ROUND  # noqa E402\n",
    "from ccxt.base.decimal_to_precision import SIGNIFICANT_DIGITS  # noqa E402\n",
    "from ccxt.base.decimal_to_precision import PAD_WITH_ZERO  # noqa E402\n",
    "from ccxt.base.decimal_to_precision import decimal_to_precision  # noqa E402\n",
    "from ccxt.base.decimal_to_precision import number_to_string  # noqa E402\n",
    "import ccxt  # noqa: F402\n",
    "from ccxt.base.precise import Precise  # noqa E402\n",
    "\n",
    "\n",
    "# enable built-in rate limiting upon instantiation of the exchange\n",
    "exchange = ccxt.bitfinex({\n",
    "    # 'enableRateLimit': True,  # enabled by default\n",
    "})\n",
    "\n",
    "# or watch the built-in rate-limiter on or off later after instantiation\n",
    "exchange.enableRateLimit = True   # enable\n",
    "exchange.enableRateLimit = False  # disable\n",
    "# In case your calls hit a rate limit or get nonce errors, the ccxt library will throw an 'InvalidNonce' exception, \n",
    "# or, in some cases, one of the following types: \n",
    "# DDosProtection, ExchangeNotAvailable, ExchangeError, InvalidNonce"
   ]
  },
  {
   "cell_type": "code",
   "execution_count": 2,
   "metadata": {},
   "outputs": [],
   "source": [
    "# WARNING! The `decimal_to_precision` method is susceptible to getcontext().prec!\n",
    "def decimal_to_precision(n, rounding_mode=ROUND, precision=None, counting_mode=DECIMAL_PLACES, padding_mode=NO_PADDING):\n",
    "    pass\n",
    "\n",
    "def amount_to_precision (symbol, amount):\n",
    "    pass\n",
    "\n",
    "def price_to_precision (symbol, price):\n",
    "    pass\n",
    "def cost_to_precision (symbol, cost):\n",
    "    pass\n",
    "\n",
    "def currency_to_precision (code, amount):\n",
    "    pass"
   ]
  },
  {
   "cell_type": "code",
   "execution_count": 4,
   "metadata": {},
   "outputs": [],
   "source": [
    "# Load all available markets from the exchange before calling the above methods\n",
    "exchange.load_markets()\n",
    "symbol='BTC/USDT'\n",
    "amount=1.2345678    # amount in base currency BTC\n",
    "price=87654.321     # price in quote currency USDT\n",
    "formatted_amount = exchange.amount_to_precision(symbol=symbol, amount=amount)\n",
    "formatted_price = exchange.price_to_precision(symbol=symbol, price=price)"
   ]
  },
  {
   "cell_type": "code",
   "execution_count": 6,
   "metadata": {},
   "outputs": [
    {
     "name": "stdout",
     "output_type": "stream",
     "text": [
      "1.2345678\n",
      "87654\n"
     ]
    }
   ],
   "source": [
    "print(formatted_amount)\n",
    "print(formatted_price)"
   ]
  }
 ],
 "metadata": {
  "kernelspec": {
   "display_name": "venv",
   "language": "python",
   "name": "python3"
  },
  "language_info": {
   "codemirror_mode": {
    "name": "ipython",
    "version": 3
   },
   "file_extension": ".py",
   "mimetype": "text/x-python",
   "name": "python",
   "nbconvert_exporter": "python",
   "pygments_lexer": "ipython3",
   "version": "3.11.9"
  }
 },
 "nbformat": 4,
 "nbformat_minor": 2
}
