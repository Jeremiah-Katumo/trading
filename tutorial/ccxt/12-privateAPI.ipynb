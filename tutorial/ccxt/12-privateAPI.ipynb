{
 "cells": [
  {
   "cell_type": "code",
   "execution_count": 1,
   "metadata": {},
   "outputs": [],
   "source": [
    "import ccxt\n",
    "from datetime import time\n",
    "import asyncio"
   ]
  },
  {
   "cell_type": "markdown",
   "metadata": {},
   "source": [
    "### API Keys Setup\n",
    "#### Required Credentials\n",
    "- The API credentials usually include the following:\n",
    "\n",
    "    - **apiKey**. This is your public API Key and/or Token. This part is non-secret, it is included in your request header or body and sent over HTTPS in open text to identify your request. It is often a string in Hex or Base64 encoding or an UUID identifier.\n",
    "    - **secret**. This is your private key. Keep it secret, don't tell it to anybody. It is used to sign your requests locally before sending them to exchanges. The secret key does not get sent over the internet in the request-response process and should not be published or emailed. It is used together with the nonce to generate a cryptographically strong signature. That signature is sent with your public key to authenticate your identity. Each request has a unique nonce and therefore a unique cryptographic signature.\n",
    "    - **uid**. Some exchanges (not all of them) also generate a user id or uid for short. It can be a string or numeric literal. You should set it, if that is explicitly required by your exchange. See their docs for details.\n",
    "    - **password**. Some exchanges (not all of them) also require your password/phrase for trading. You should set this string, if that is explicitly required by your exchange. See their docs for details."
   ]
  },
  {
   "cell_type": "markdown",
   "metadata": {},
   "source": [
    "#### Credential Validation\n",
    "- For checking if the user has supplied all the required credentials the Exchange base class has a method called **exchange.checkRequiredCredentials()** or **exchange.check_required_credentials()**. Calling that method will throw an **AuthenticationError**, if some of the credentials are missing or empty. The **Exchange** base class also has property **exchange.requiredCredentials** that allows a user to see which credentials are required for this or that exchange, as shown below:"
   ]
  },
  {
   "cell_type": "code",
   "execution_count": null,
   "metadata": {},
   "outputs": [],
   "source": [
    "exchange = ccxt.binance()\n",
    "print(exchange.requiredCredentials())  # print required credentials"
   ]
  },
  {
   "cell_type": "code",
   "execution_count": null,
   "metadata": {},
   "outputs": [],
   "source": [
    "exchange.check_required_credentials()   # raises AuthenticationError"
   ]
  },
  {
   "cell_type": "markdown",
   "metadata": {},
   "source": [
    "#### Configuring API Keys\n",
    "- To set up an exchange for trading just assign the API credentials to an existing exchange instance or pass them to exchange contructor upon instantiation, like so:"
   ]
  },
  {
   "cell_type": "code",
   "execution_count": null,
   "metadata": {},
   "outputs": [],
   "source": [
    "# any time\n",
    "bitfinex = ccxt.bitfinex()\n",
    "bitfinex.apiKey = 'YOUR_BFX_API_KEY'\n",
    "bitfinex.secret = 'YOUR_BFX_SECRET_KEY'"
   ]
  },
  {
   "cell_type": "code",
   "execution_count": null,
   "metadata": {},
   "outputs": [],
   "source": [
    "# Upon instantiation\n",
    "hitbtc = ccxt.hitbtc({\n",
    "    'apiKey': 'YOUR_BFX_API_KEY',\n",
    "    'secret': 'YOUR_BFX_SECRET_KEY'\n",
    "})"
   ]
  },
  {
   "cell_type": "code",
   "execution_count": null,
   "metadata": {},
   "outputs": [],
   "source": [
    "# from variable id\n",
    "exchange_id = 'binance'\n",
    "exchange_class = getattr(ccxt, exchange_id)\n",
    "exchange = exchange_class({\n",
    "    'apiKey': 'YOUR_API_KEY',\n",
    "    'secret': 'YOUR_SECRET'\n",
    "})"
   ]
  },
  {
   "cell_type": "markdown",
   "metadata": {},
   "source": [
    "#### Overriding Nonce"
   ]
  },
  {
   "cell_type": "code",
   "execution_count": null,
   "metadata": {},
   "outputs": [],
   "source": [
    "# 1: the shortest\n",
    "binance = ccxt.binance({'nonce': ccxt.Exchange.milliseconds})\n",
    "\n",
    "# 2: custom nonce\n",
    "class MyKraken(ccxt.kraken):\n",
    "    n = 1\n",
    "    def nonce(self):\n",
    "        return self.n += 1\n",
    "\n",
    "# 3: milliseconds nonce\n",
    "class MyBitfinex(ccxt.bitfinex):\n",
    "    def nonce(self):\n",
    "        return self.milliseconds()\n",
    "\n",
    "# 4: milliseconds nonce inline\n",
    "hitbtc = ccxt.hitbtc({'nonce': lambda: int(time.time()) * 1000})\n",
    "\n",
    "# 5: milliseconds nonce\n",
    "acx = ccxt.acx({'nonce': lambda: ccxt.Exchange.milliseconds()})"
   ]
  },
  {
   "cell_type": "markdown",
   "metadata": {},
   "source": [
    "### Accounts\n",
    "- You can get all the accounts associated with a profile by using the **fetchAccounts()** method"
   ]
  },
  {
   "cell_type": "markdown",
   "metadata": {},
   "source": [
    "#### Accounts Structure\n",
    "- The **fetchAccounts()** method will return a structure like shown below:"
   ]
  },
  {
   "cell_type": "code",
   "execution_count": null,
   "metadata": {},
   "outputs": [],
   "source": [
    "accounts_structure = [\n",
    "    {\n",
    "        id: \"s32kj302lasli3930\",\n",
    "        type: \"main\",\n",
    "        name: \"main\",\n",
    "        code: \"USDT\",\n",
    "        info: { ... }\n",
    "    },\n",
    "    {\n",
    "        id: \"20f0sdlri34lf90\",\n",
    "        name: \"customAccount\",\n",
    "        type: \"margin\",\n",
    "        code: \"USDT\",\n",
    "        info: { ... }\n",
    "    },\n",
    "    {\n",
    "        id: \"4oidfk40dadeg4328\",\n",
    "        type: \"spot\",\n",
    "        name: \"spotAccount32\",\n",
    "        code: \"BTC\",\n",
    "        info: { ... }\n",
    "    },\n",
    "    ...\n",
    "]"
   ]
  },
  {
   "cell_type": "markdown",
   "metadata": {},
   "source": [
    "### Account Balance\n",
    "- To query for balance and get the amount of funds available for trading or funds locked in orders, use the **fetchBalance** method:\n",
    "#### Parameters\n",
    "- **params** (Dictionary) Extra parameters specific to the exchange API endpoint (e.g. {\"currency\": \"usdt\"})\n",
    "#### Returns\n",
    "A **balance structure**"
   ]
  },
  {
   "cell_type": "code",
   "execution_count": null,
   "metadata": {},
   "outputs": [],
   "source": [
    "balance_structure = {\n",
    "    'info':  { ... },    # the original untouched non-parsed reply with details\n",
    "    'timestamp': 1499280391811, # Unix Timestamp in milliseconds (seconds * 1000)\n",
    "    'datetime': '2017-07-05T18:47:14.692Z', # ISO8601 datetime string with milliseconds\n",
    "\n",
    "    #-------------------------------------------------------------------------\n",
    "    # indexed by availability of funds first, then by currency\n",
    "\n",
    "    'free':  {           # money, available for trading, by currency\n",
    "        'BTC': 321.00,   # floats...\n",
    "        'USD': 123.00,\n",
    "        \n",
    "    },\n",
    "\n",
    "    'used':  { ... },    # money on hold, locked, frozen, or pending, by currency\n",
    "\n",
    "    'total': { ... },    # total (free + used), by currency\n",
    "\n",
    "    #-------------------------------------------------------------------------\n",
    "    # indexed by currency first, then by availability of funds\n",
    "\n",
    "    'BTC':   {           # string, three-letter currency code, uppercase\n",
    "        'free': 321.00,   # float, money available for trading\n",
    "        'used': 234.00,  # float, money on hold, locked, frozen or pending\n",
    "        'total': 555.00, # float, total balance (free + used)\n",
    "    },\n",
    "\n",
    "    'USD':   {           # ...\n",
    "        'free': 123.00,   # ...\n",
    "        'used': 456.00,\n",
    "        'total': 579.00,\n",
    "    },\n",
    "\n",
    "    \n",
    "}"
   ]
  },
  {
   "cell_type": "code",
   "execution_count": null,
   "metadata": {},
   "outputs": [],
   "source": [
    "print(exchange.fetch_balance())"
   ]
  },
  {
   "cell_type": "markdown",
   "metadata": {},
   "source": [
    "### Querrying Orders\n",
    "- The list of methods for querying orders consists of the following:\n",
    "\n",
    "    - fetchCanceledOrders (symbol = undefined, since = undefined, limit = undefined, params = {})\n",
    "    - fetchClosedOrder (id, symbol = undefined, params = {})\n",
    "    - fetchClosedOrders (symbol = undefined, since = undefined, limit = undefined, params = {})\n",
    "    - fetchOpenOrder (id, symbol = undefined, params = {})\n",
    "    - fetchOpenOrders (symbol = undefined, since = undefined, limit = undefined, params = {})\n",
    "    - fetchOrder (id, symbol = undefined, params = {})\n",
    "    - fetchOrders (symbol = undefined, since = undefined, limit = undefined, params = {})"
   ]
  },
  {
   "cell_type": "code",
   "execution_count": null,
   "metadata": {},
   "outputs": [],
   "source": [
    "# look into the .has property of the exchange to check above available querying methods\n",
    "id = 'binance'\n",
    "ex_class = getattr(ccxt, id)()\n",
    "print(ex_class.has)"
   ]
  },
  {
   "cell_type": "markdown",
   "metadata": {},
   "source": [
    "**NOTE**: not all exchanges provide means for filtering the lists of trades and orders by starting time, so, the support for since  and limit is exchange-specific. However, most exchanges do provide at least some alternative for \"pagination\" and \"scrolling\" which can be overrided with extra params argument."
   ]
  },
  {
   "cell_type": "markdown",
   "metadata": {},
   "source": [
    "#### By Order Id\n",
    "- To get the details of a particular order by its id, use the fetchOrder() / fetch_order() method. Some exchanges also require a symbol even when fetching a particular order by id.\n",
    "\n",
    "- The signature of the fetchOrder/fetch_order method is as follows:"
   ]
  },
  {
   "cell_type": "code",
   "execution_count": null,
   "metadata": {},
   "outputs": [],
   "source": [
    "if exchange.has['fetchOrder']:\n",
    "    cursor = 0\n",
    "    while True:\n",
    "        id = 'binance'\n",
    "        symbol = 'BTC/USDT'\n",
    "        params = {\n",
    "            'cursor': cursor\n",
    "        }\n",
    "        order = await exchange.fetch_order(id, symbol=symbol, params=params)\n",
    "        print(order)"
   ]
  },
  {
   "cell_type": "markdown",
   "metadata": {},
   "source": [
    "#### Single Order\n",
    "- Below are examples of using the fetchOrder method to get order info from an authenticated exchange instance:"
   ]
  },
  {
   "cell_type": "code",
   "execution_count": null,
   "metadata": {},
   "outputs": [],
   "source": [
    "if exchange.has['fetchOrder']:\n",
    "    order = exchange.fetch_order(id)\n",
    "    print(order)"
   ]
  },
  {
   "cell_type": "code",
   "execution_count": null,
   "metadata": {},
   "outputs": [],
   "source": [
    "# synchronous\n",
    "import asyncio\n",
    "import ccxt.async_support as ccxt\n",
    "\n",
    "if exchange.has['fetchOrder']:\n",
    "    order = asyncio.run(exchange.fetch_order(id))\n",
    "    print(order)"
   ]
  },
  {
   "cell_type": "markdown",
   "metadata": {},
   "source": [
    "#### All Orders"
   ]
  },
  {
   "cell_type": "code",
   "execution_count": null,
   "metadata": {},
   "outputs": [],
   "source": [
    "if exchange.has['fetchOrders']:\n",
    "    cursor = 0\n",
    "    all_orders = []\n",
    "    while True:\n",
    "        since = exchange.milliseconds() * 60 * 60 * 1000   # last 1 hour\n",
    "        limit = 10\n",
    "        params = {\n",
    "            'cursor': cursor\n",
    "        }\n",
    "        orders = exchange.fetchOrders(symbol=symbol, since=since, limit=limit, params=params)\n",
    "        if len(orders) == 0:\n",
    "            break\n",
    "        else:\n",
    "            cursor = exchange.last_response_headers['CB-AFTER']\n",
    "            all_orders += orders"
   ]
  }
 ],
 "metadata": {
  "kernelspec": {
   "display_name": "venv",
   "language": "python",
   "name": "python3"
  },
  "language_info": {
   "codemirror_mode": {
    "name": "ipython",
    "version": 3
   },
   "file_extension": ".py",
   "mimetype": "text/x-python",
   "name": "python",
   "nbconvert_exporter": "python",
   "pygments_lexer": "ipython3",
   "version": "3.11.9"
  }
 },
 "nbformat": 4,
 "nbformat_minor": 2
}
