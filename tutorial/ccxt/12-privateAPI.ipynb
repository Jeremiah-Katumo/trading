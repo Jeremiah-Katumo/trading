{
 "cells": [
  {
   "cell_type": "code",
   "execution_count": 1,
   "metadata": {},
   "outputs": [],
   "source": [
    "import ccxt\n",
    "from datetime import time\n",
    "import asyncio"
   ]
  },
  {
   "cell_type": "markdown",
   "metadata": {},
   "source": [
    "### API Keys Setup\n",
    "#### Required Credentials\n",
    "- The API credentials usually include the following:\n",
    "\n",
    "    - **apiKey**. This is your public API Key and/or Token. This part is non-secret, it is included in your request header or body and sent over HTTPS in open text to identify your request. It is often a string in Hex or Base64 encoding or an UUID identifier.\n",
    "    - **secret**. This is your private key. Keep it secret, don't tell it to anybody. It is used to sign your requests locally before sending them to exchanges. The secret key does not get sent over the internet in the request-response process and should not be published or emailed. It is used together with the nonce to generate a cryptographically strong signature. That signature is sent with your public key to authenticate your identity. Each request has a unique nonce and therefore a unique cryptographic signature.\n",
    "    - **uid**. Some exchanges (not all of them) also generate a user id or uid for short. It can be a string or numeric literal. You should set it, if that is explicitly required by your exchange. See their docs for details.\n",
    "    - **password**. Some exchanges (not all of them) also require your password/phrase for trading. You should set this string, if that is explicitly required by your exchange. See their docs for details."
   ]
  },
  {
   "cell_type": "markdown",
   "metadata": {},
   "source": [
    "#### Credential Validation\n",
    "- For checking if the user has supplied all the required credentials the Exchange base class has a method called **exchange.checkRequiredCredentials()** or **exchange.check_required_credentials()**. Calling that method will throw an **AuthenticationError**, if some of the credentials are missing or empty. The **Exchange** base class also has property **exchange.requiredCredentials** that allows a user to see which credentials are required for this or that exchange, as shown below:"
   ]
  },
  {
   "cell_type": "code",
   "execution_count": null,
   "metadata": {},
   "outputs": [],
   "source": [
    "exchange = ccxt.binance()\n",
    "print(exchange.requiredCredentials())  # print required credentials"
   ]
  },
  {
   "cell_type": "code",
   "execution_count": null,
   "metadata": {},
   "outputs": [],
   "source": [
    "exchange.check_required_credentials()   # raises AuthenticationError"
   ]
  },
  {
   "cell_type": "markdown",
   "metadata": {},
   "source": [
    "#### Configuring API Keys\n",
    "- To set up an exchange for trading just assign the API credentials to an existing exchange instance or pass them to exchange contructor upon instantiation, like so:"
   ]
  },
  {
   "cell_type": "code",
   "execution_count": null,
   "metadata": {},
   "outputs": [],
   "source": [
    "# any time\n",
    "bitfinex = ccxt.bitfinex()\n",
    "bitfinex.apiKey = 'YOUR_BFX_API_KEY'\n",
    "bitfinex.secret = 'YOUR_BFX_SECRET_KEY'"
   ]
  },
  {
   "cell_type": "code",
   "execution_count": null,
   "metadata": {},
   "outputs": [],
   "source": [
    "# Upon instantiation\n",
    "hitbtc = ccxt.hitbtc({\n",
    "    'apiKey': 'YOUR_BFX_API_KEY',\n",
    "    'secret': 'YOUR_BFX_SECRET_KEY'\n",
    "})"
   ]
  },
  {
   "cell_type": "code",
   "execution_count": null,
   "metadata": {},
   "outputs": [],
   "source": [
    "# from variable id\n",
    "exchange_id = 'binance'\n",
    "exchange_class = getattr(ccxt, exchange_id)\n",
    "exchange = exchange_class({\n",
    "    'apiKey': 'YOUR_API_KEY',\n",
    "    'secret': 'YOUR_SECRET'\n",
    "})"
   ]
  },
  {
   "cell_type": "markdown",
   "metadata": {},
   "source": [
    "#### Overriding Nonce"
   ]
  },
  {
   "cell_type": "code",
   "execution_count": null,
   "metadata": {},
   "outputs": [],
   "source": [
    "# 1: the shortest\n",
    "binance = ccxt.binance({'nonce': ccxt.Exchange.milliseconds})\n",
    "\n",
    "# 2: custom nonce\n",
    "class MyKraken(ccxt.kraken):\n",
    "    n = 1\n",
    "    def nonce(self):\n",
    "        return self.n += 1\n",
    "\n",
    "# 3: milliseconds nonce\n",
    "class MyBitfinex(ccxt.bitfinex):\n",
    "    def nonce(self):\n",
    "        return self.milliseconds()\n",
    "\n",
    "# 4: milliseconds nonce inline\n",
    "hitbtc = ccxt.hitbtc({'nonce': lambda: int(time.time()) * 1000})\n",
    "\n",
    "# 5: milliseconds nonce\n",
    "acx = ccxt.acx({'nonce': lambda: ccxt.Exchange.milliseconds()})"
   ]
  },
  {
   "cell_type": "markdown",
   "metadata": {},
   "source": [
    "### Accounts\n",
    "- You can get all the accounts associated with a profile by using the **fetchAccounts()** method"
   ]
  },
  {
   "cell_type": "markdown",
   "metadata": {},
   "source": [
    "#### Accounts Structure\n",
    "- The **fetchAccounts()** method will return a structure like shown below:"
   ]
  },
  {
   "cell_type": "code",
   "execution_count": null,
   "metadata": {},
   "outputs": [],
   "source": [
    "accounts_structure = [\n",
    "    {\n",
    "        id: \"s32kj302lasli3930\",\n",
    "        type: \"main\",\n",
    "        name: \"main\",\n",
    "        code: \"USDT\",\n",
    "        info: { ... }\n",
    "    },\n",
    "    {\n",
    "        id: \"20f0sdlri34lf90\",\n",
    "        name: \"customAccount\",\n",
    "        type: \"margin\",\n",
    "        code: \"USDT\",\n",
    "        info: { ... }\n",
    "    },\n",
    "    {\n",
    "        id: \"4oidfk40dadeg4328\",\n",
    "        type: \"spot\",\n",
    "        name: \"spotAccount32\",\n",
    "        code: \"BTC\",\n",
    "        info: { ... }\n",
    "    },\n",
    "    ...\n",
    "]"
   ]
  },
  {
   "cell_type": "markdown",
   "metadata": {},
   "source": [
    "### Account Balance\n",
    "- To query for balance and get the amount of funds available for trading or funds locked in orders, use the **fetchBalance** method:\n",
    "#### Parameters\n",
    "- **params** (Dictionary) Extra parameters specific to the exchange API endpoint (e.g. {\"currency\": \"usdt\"})\n",
    "#### Returns\n",
    "A **balance structure**"
   ]
  },
  {
   "cell_type": "code",
   "execution_count": null,
   "metadata": {},
   "outputs": [],
   "source": [
    "balance_structure = {\n",
    "    'info':  { ... },    # the original untouched non-parsed reply with details\n",
    "    'timestamp': 1499280391811, # Unix Timestamp in milliseconds (seconds * 1000)\n",
    "    'datetime': '2017-07-05T18:47:14.692Z', # ISO8601 datetime string with milliseconds\n",
    "\n",
    "    #-------------------------------------------------------------------------\n",
    "    # indexed by availability of funds first, then by currency\n",
    "\n",
    "    'free':  {           # money, available for trading, by currency\n",
    "        'BTC': 321.00,   # floats...\n",
    "        'USD': 123.00,\n",
    "        \n",
    "    },\n",
    "\n",
    "    'used':  { ... },    # money on hold, locked, frozen, or pending, by currency\n",
    "\n",
    "    'total': { ... },    # total (free + used), by currency\n",
    "\n",
    "    #-------------------------------------------------------------------------\n",
    "    # indexed by currency first, then by availability of funds\n",
    "\n",
    "    'BTC':   {           # string, three-letter currency code, uppercase\n",
    "        'free': 321.00,   # float, money available for trading\n",
    "        'used': 234.00,  # float, money on hold, locked, frozen or pending\n",
    "        'total': 555.00, # float, total balance (free + used)\n",
    "    },\n",
    "\n",
    "    'USD':   {           # ...\n",
    "        'free': 123.00,   # ...\n",
    "        'used': 456.00,\n",
    "        'total': 579.00,\n",
    "    },\n",
    "\n",
    "    \n",
    "}"
   ]
  },
  {
   "cell_type": "code",
   "execution_count": null,
   "metadata": {},
   "outputs": [],
   "source": [
    "print(exchange.fetch_balance())"
   ]
  },
  {
   "cell_type": "markdown",
   "metadata": {},
   "source": [
    "### Querrying Orders\n",
    "- The list of methods for querying orders consists of the following:\n",
    "\n",
    "    - fetchCanceledOrders (symbol = undefined, since = undefined, limit = undefined, params = {})\n",
    "    - fetchClosedOrder (id, symbol = undefined, params = {})\n",
    "    - fetchClosedOrders (symbol = undefined, since = undefined, limit = undefined, params = {})\n",
    "    - fetchOpenOrder (id, symbol = undefined, params = {})\n",
    "    - fetchOpenOrders (symbol = undefined, since = undefined, limit = undefined, params = {})\n",
    "    - fetchOrder (id, symbol = undefined, params = {})\n",
    "    - fetchOrders (symbol = undefined, since = undefined, limit = undefined, params = {})"
   ]
  },
  {
   "cell_type": "code",
   "execution_count": null,
   "metadata": {},
   "outputs": [],
   "source": [
    "# look into the .has property of the exchange to check above available querying methods\n",
    "id = 'binance'\n",
    "ex_class = getattr(ccxt, id)()\n",
    "print(ex_class.has)"
   ]
  },
  {
   "cell_type": "markdown",
   "metadata": {},
   "source": [
    "**NOTE**: not all exchanges provide means for filtering the lists of trades and orders by starting time, so, the support for since  and limit is exchange-specific. However, most exchanges do provide at least some alternative for \"pagination\" and \"scrolling\" which can be overrided with extra params argument."
   ]
  },
  {
   "cell_type": "markdown",
   "metadata": {},
   "source": [
    "#### By Order Id\n",
    "- To get the details of a particular order by its id, use the fetchOrder() / fetch_order() method. Some exchanges also require a symbol even when fetching a particular order by id.\n",
    "\n",
    "- The signature of the fetchOrder/fetch_order method is as follows:"
   ]
  },
  {
   "cell_type": "code",
   "execution_count": null,
   "metadata": {},
   "outputs": [],
   "source": [
    "if exchange.has['fetchOrder']:\n",
    "    cursor = 0\n",
    "    while True:\n",
    "        id = 'binance'\n",
    "        symbol = 'BTC/USDT'\n",
    "        params = {\n",
    "            'cursor': cursor\n",
    "        }\n",
    "        order = await exchange.fetch_order(id, symbol=symbol, params=params)\n",
    "        print(order)"
   ]
  },
  {
   "cell_type": "markdown",
   "metadata": {},
   "source": [
    "#### Single Order\n",
    "- Below are examples of using the fetchOrder method to get order info from an authenticated exchange instance:"
   ]
  },
  {
   "cell_type": "code",
   "execution_count": null,
   "metadata": {},
   "outputs": [],
   "source": [
    "if exchange.has['fetchOrder']:\n",
    "    order = exchange.fetch_order(id)\n",
    "    print(order)"
   ]
  },
  {
   "cell_type": "code",
   "execution_count": null,
   "metadata": {},
   "outputs": [],
   "source": [
    "# synchronous\n",
    "import asyncio\n",
    "import ccxt.async_support as ccxt\n",
    "\n",
    "if exchange.has['fetchOrder']:\n",
    "    order = asyncio.run(exchange.fetch_order(id))\n",
    "    print(order)"
   ]
  },
  {
   "cell_type": "markdown",
   "metadata": {},
   "source": [
    "#### All Orders"
   ]
  },
  {
   "cell_type": "code",
   "execution_count": null,
   "metadata": {},
   "outputs": [],
   "source": [
    "if exchange.has['fetchOrders']:\n",
    "    cursor = 0\n",
    "    all_orders = []\n",
    "    while True:\n",
    "        since = exchange.milliseconds() * 60 * 60 * 1000   # last 1 hour\n",
    "        limit = 10\n",
    "        params = {\n",
    "            'cursor': cursor\n",
    "        }\n",
    "        orders = exchange.fetchOrders(symbol=symbol, since=since, limit=limit, params=params)\n",
    "        if len(orders) == 0:\n",
    "            break\n",
    "        else:\n",
    "            cursor = exchange.last_response_headers['CB-AFTER']\n",
    "            all_orders += orders"
   ]
  },
  {
   "cell_type": "markdown",
   "metadata": {},
   "source": [
    "#### Open Orders"
   ]
  },
  {
   "cell_type": "code",
   "execution_count": null,
   "metadata": {},
   "outputs": [],
   "source": [
    "if exchange.has['fetchOpenOrders']:\n",
    "    cursor = 0\n",
    "    all_open_orders = []\n",
    "    while True:\n",
    "        symbol = 'DOGE/USDT'\n",
    "        since = exchange.milliseconds() * 60 * 60 * 1000\n",
    "        limit = 10\n",
    "        params = {\n",
    "            'cursor': cursor\n",
    "        }\n",
    "        open_orders = exchange.fetch_open_orders(symbol=symbol, since=since, limit=limit, params=params)\n",
    "        if len(open_orders):\n",
    "            cursor = exchange.last_response_headers['CB-AFTER']\n",
    "            all_open_orders += open_orders\n",
    "        else:\n",
    "            break"
   ]
  },
  {
   "cell_type": "markdown",
   "metadata": {},
   "source": [
    "#### Closed Orders"
   ]
  },
  {
   "cell_type": "code",
   "execution_count": null,
   "metadata": {},
   "outputs": [],
   "source": [
    "if exchange.has['fetchClosedOrders']:\n",
    "    closed_orders = exchange.fetch_closed_orders(symbol=symbol, since=since, limit=limit, params=params)\n",
    "    print(closed_orders)"
   ]
  },
  {
   "cell_type": "markdown",
   "metadata": {},
   "source": [
    "#### Order Structure\n",
    "- Most of methods returning orders within ccxt unified API will yield an order structure as described below:"
   ]
  },
  {
   "cell_type": "code",
   "execution_count": null,
   "metadata": {},
   "outputs": [],
   "source": [
    "order_structure = {\n",
    "    'id':                '12345-67890:09876/54321', // string\n",
    "    'clientOrderId':     'abcdef-ghijklmnop-qrstuvwxyz', // a user-defined clientOrderId, if any\n",
    "    'datetime':          '2017-08-17 12:42:48.000', // ISO8601 datetime of 'timestamp' with milliseconds\n",
    "    'timestamp':          1502962946216, // order placing/opening Unix timestamp in milliseconds\n",
    "    'lastTradeTimestamp': 1502962956216, // Unix timestamp of the most recent trade on this order\n",
    "    'status':      'open',        // 'open', 'closed', 'canceled', 'expired', 'rejected'\n",
    "    'symbol':      'ETH/BTC',     // symbol\n",
    "    'type':        'limit',       // 'market', 'limit'\n",
    "    'timeInForce': 'GTC',         // 'GTC', 'IOC', 'FOK', 'PO'\n",
    "    'side':        'buy',         // 'buy', 'sell'\n",
    "    'price':        0.06917684,   // float price in quote currency (may be empty for market orders)\n",
    "    'average':      0.06917684,   // float average filling price\n",
    "    'amount':       1.5,          // ordered amount of base currency\n",
    "    'filled':       1.1,          // filled amount of base currency\n",
    "    'remaining':    0.4,          // remaining amount to fill\n",
    "    'cost':         0.076094524,  // 'filled' * 'price' (filling price used where available)\n",
    "    'trades':     [ ... ],        // a list of order trades/executions\n",
    "    'fee': {                      // fee info, if available\n",
    "        'currency': 'BTC',        // which currency the fee is (usually quote)\n",
    "        'cost': 0.0009,           // the fee amount in that currency\n",
    "        'rate': 0.002,            // the fee rate (if available)\n",
    "    },\n",
    "    'info': { ... },              // the original unparsed order structure as is\n",
    "}"
   ]
  },
  {
   "cell_type": "markdown",
   "metadata": {},
   "source": [
    "##### timeInForce\n",
    "- The timeInForce field may be undefined/None/null if not specified by the exchange. - The unification of timeInForce is a work in progress.\n",
    "\n",
    "- Possible values for thetimeInForce field:\n",
    "\n",
    "    - **'GTC'** = *Good Till Cancel(ed)*, the order stays on the orderbook until it is matched or canceled.\n",
    "    - **'IOC'** = *Immediate Or Cancel*, the order has to be matched immediately and filled either partially or completely, the unfilled remainder is canceled (or the entire order is canceled).\n",
    "    - **'FOK'** = *Fill Or Kill*, the order has to get fully filled and closed immediately, otherwise the entire order is canceled.\n",
    "    - **'PO'** = *Post Only*, the order is either placed as a maker order, or it is canceled. This means the order must be placed on orderbook for at at least time in an unfilled state. The unification of **PO** as a **timeInForce** option is a work in progress with unified exchanges having **exchange.has['createPostOnlyOrder'] == True**."
   ]
  },
  {
   "cell_type": "markdown",
   "metadata": {},
   "source": [
    "### Placing Orders"
   ]
  },
  {
   "cell_type": "markdown",
   "metadata": {},
   "source": [
    "- An example of finding the **contractSize**:"
   ]
  },
  {
   "cell_type": "code",
   "execution_count": null,
   "metadata": {},
   "outputs": [],
   "source": [
    "await exchange.loadMarkets()\n",
    "symbol = 'BTC/USDT:USDT'\n",
    "market = exchange.market(symbol)\n",
    "print(market['contractSize'])\n",
    "\n",
    "# Let's say you want to convert 0.5 BTC to the number of contracts:\n",
    "number_contracts = round((0.5 * 1) / market['contractSize'])"
   ]
  },
  {
   "cell_type": "markdown",
   "metadata": {},
   "source": [
    "#### Limit Orders\n",
    "- Limit orders placed on the order book of the exchange for a price specified by the trader. They are fullfilled(closed) when there are no orders in the same market at a better price, and another trader creates a market order or an opposite order for a price that matches or exceeds the price of the limit order.\n",
    "\n",
    "- Limit orders may not be fully filled. This happens when the filling order is for a smaller amount than the amount specified by the limit order."
   ]
  },
  {
   "cell_type": "code",
   "execution_count": null,
   "metadata": {},
   "outputs": [],
   "source": [
    "sym = 'BTC/USDT'\n",
    "price = 55001.0\n",
    "amount = 0.01813614\n",
    "params = {\n",
    "    'settle': 'usdt'\n",
    "}\n",
    "\n",
    "exchange.create_limit_buy_order(symbol=symbol, amount=amount, price=price, params=params)\n",
    "exchange.create_limit_sell_order(symbol=symbol, amount=amount, price=price, params=params)"
   ]
  },
  {
   "cell_type": "code",
   "execution_count": null,
   "metadata": {},
   "outputs": [],
   "source": [
    "# using general createLimitOrder and side = 'buy' or 'sell'\n",
    "exchange.create_limit_order(\n",
    "    symbol=symbol, \n",
    "    side='buy', \n",
    "    amount=amount, \n",
    "    price=price, \n",
    "    params=params\n",
    ")"
   ]
  },
  {
   "cell_type": "code",
   "execution_count": null,
   "metadata": {},
   "outputs": [],
   "source": [
    "# using general createMarketOrder and side = 'buy' or 'sell'\n",
    "exchange.create_market_order(\n",
    "    symbol=symbol, \n",
    "    side='buy', \n",
    "    amount=amount, \n",
    "    params=params\n",
    ")"
   ]
  },
  {
   "cell_type": "code",
   "execution_count": null,
   "metadata": {},
   "outputs": [],
   "source": [
    "# using general createOrder, type = 'limit' and side = 'buy' or 'sell'\n",
    "exchange.create_order(\n",
    "    symbol=symbol, \n",
    "    type='limit', \n",
    "    side='sell', \n",
    "    amount=amount, \n",
    "    price=price, \n",
    "    params=params\n",
    ")"
   ]
  },
  {
   "cell_type": "code",
   "execution_count": null,
   "metadata": {},
   "outputs": [],
   "source": [
    "if exchange.has['createMarketOrder']:\n",
    "    while True:\n",
    "        symbol = 'DOGE/BTC'\n",
    "        amount = 0.01813614\n",
    "        # price = 55001.0\n",
    "        params = {\n",
    "            'settle': 'usdt'\n",
    "        }\n",
    "        order = exchange.create_market_order(\n",
    "            symbol = symbol,\n",
    "            type = 'limit',\n",
    "            side = 'sell',\n",
    "            amount = amount,\n",
    "            # price = price, # this will be ignored in creating market order   \n",
    "            params = params\n",
    "        )\n",
    "\n",
    "        print(order)"
   ]
  },
  {
   "cell_type": "markdown",
   "metadata": {},
   "source": [
    "- Limit price orders are also known as *limit orders*. Some exchanges accept limit orders only. Limit orders require a price (rate per unit) to be submitted with the order. The exchange will close limit orders if and only if market price reaches the desired level."
   ]
  },
  {
   "cell_type": "code",
   "execution_count": null,
   "metadata": {},
   "outputs": [],
   "source": [
    "# camelCaseStyle\n",
    "exchange.createLimitBuyOrder (symbol, amount, price, params)\n",
    "exchange.createLimitSellOrder (symbol, amount, price, params)\n",
    "\n",
    "# underscore_style\n",
    "exchange.create_limit_buy_order (symbol, amount, price, params)\n",
    "exchange.create_limit_sell_order (symbol, amount, price, params)"
   ]
  },
  {
   "cell_type": "markdown",
   "metadata": {},
   "source": [
    "#### Market Buys"
   ]
  },
  {
   "cell_type": "code",
   "execution_count": null,
   "metadata": {},
   "outputs": [],
   "source": [
    "exchange = ccxt.cex({\n",
    "    'apiKey': 'YOUR_API_KEY',\n",
    "    'secret': 'SECRET',\n",
    "    'options': {\n",
    "        'createMarketBuyOrderRequiresPrice': False,  # switch off\n",
    "    }\n",
    "})\n",
    "\n",
    "exchange.options['createMarketBuyOrderRequiresPrice'] = False\n",
    "\n",
    "async def function():\n",
    "    pass"
   ]
  },
  {
   "cell_type": "markdown",
   "metadata": {},
   "source": [
    "#### Stop Orders\n",
    "- Coming from traditional trading, the term \"Stop\" order has been a bit ambigious, so instead of it, in CCXT we use term \"Trigger\" order. When symbol's price reaches your \"trigger\"(\"stop\") price, the order is activated - if you had chosen *market order*, then it will be executed immediately, if you have chosen limit order, it will be placed in the orderbook.\n",
    "\n",
    "- We have different classification of trigger orders:\n",
    "\n",
    "    - stand-alone *Trigger order* to buy/sell coin (open/close position)\n",
    "    - stand-alone *Stop-Loss* or *Take-Profit* order which are only designed to close an open position.\n",
    "    - an attached *Stop-Loss* or *Take-Profit* order into a primary order (Conditional Trigger Order).\n",
    "##### Trigger Orders\n",
    "- Traditional \"stop\" order (which you might see across exchanges' websites) is now called \"trigger\" order across CCXT library. Implemented by adding a **triggerPrice** parameter. They are independent basic trigger orders that can open or close a position.\n",
    "\n",
    "    - Typically, it is activated when price of the underlying asset/contract crosses the **triggerPrice** from any direction. However, some exchanges' API require to set **triggerDirection** too, which triggers order depending whether price is above or below **triggerPrice**. For example, if you want to trigger limit order (buy 0.1 **ETH** at limit price **1500**) once pair price crosses **1700**:"
   ]
  },
  {
   "cell_type": "code",
   "execution_count": null,
   "metadata": {},
   "outputs": [],
   "source": [
    "sym = 'ETH/USDT'\n",
    "price = 1500\n",
    "amount = 0.1\n",
    "params = {\n",
    "    'triggerPrice': '1700'\n",
    "}\n",
    "\n",
    "order = exchange.create_order(symbol, 'market', 'buy', amount, price, params)"
   ]
  },
  {
   "cell_type": "code",
   "execution_count": null,
   "metadata": {},
   "outputs": [],
   "source": [
    "params = {\n",
    "    'triggerPrice': 1700,\n",
    "    'triggerDirection': 'above',   # order will be triggered when price is above 1700\n",
    "}"
   ]
  },
  {
   "cell_type": "markdown",
   "metadata": {},
   "source": [
    "##### Stop Loss Orders\n",
    "- The same as Trigger Orders, but the direction matters. Implemented by specifying a **stopLossPrice** parameter (for the stop loss *triggerPrice*), and also automatically implemented **triggerDirection** on behalf of user, so instead of regular Trigger Order, you can use this as an alternative."
   ]
  },
  {
   "cell_type": "markdown",
   "metadata": {},
   "source": [
    "- Stop Loss orders are activated when the price of the underlying asset/contract:\n",
    "\n",
    "    - drops below the stopLossPrice from above, for sell orders. (eg: to close a long position, and avoid further losses)\n",
    "    - rises above the stopLossPrice from below, for buy orders (eg: to close a short position, and avoid further losses)"
   ]
  },
  {
   "cell_type": "code",
   "execution_count": null,
   "metadata": {},
   "outputs": [],
   "source": [
    "params = {\n",
    "    'stopLossPrice': 55.45,   # your stop loss price\n",
    "}\n",
    "order = exchange.create_order(symbol, 'market', 'sell', amount, price, params)"
   ]
  },
  {
   "cell_type": "markdown",
   "metadata": {},
   "source": [
    "##### Take Profit Orders\n",
    "- The same as Stop Loss Orders, but the direction matters. Implemented by specifying a **takeProfitPrice** parameter (for the take profit triggerPrice)."
   ]
  },
  {
   "cell_type": "markdown",
   "metadata": {},
   "source": [
    "- Take Profit orders are activated when the price of the underlying:\n",
    "\n",
    "    - rises above the takeProfitPrice from below, for sell orders (eg: to close a long position, at a profit)\n",
    "    - drops below the takeProfitPrice from above, for buy orders (eg: to close a short position, at a profit)"
   ]
  },
  {
   "cell_type": "code",
   "execution_count": null,
   "metadata": {},
   "outputs": [],
   "source": [
    "# for a take profit order\n",
    "params = {\n",
    "    'takeProfitPrice': 120.45    # your take profit price\n",
    "}\n",
    "order = exchange.create_order(symbol, 'market', 'buy', amount, price, params)"
   ]
  },
  {
   "cell_type": "markdown",
   "metadata": {},
   "source": [
    "##### StopLoss And TakeProfit Orders Attached To A Position\n",
    "- **Take Profit / Stop** Loss Orders which are tied to a position-opening primary order. - Implemented by supplying a dictionary parameters for **stopLoss** and **takeProfit** describing each respectively.\n",
    "\n",
    "    - By default stopLoss and takeProfit orders will be the same magnitude as primary order but in the opposite direction.\n",
    "    - Attached trigger orders are conditional on the primary order being executed.\n",
    "    Not supported by all exchanges.\n",
    "    - Both **stopLoss** and **takeProfit** or either can be supplied, this depends on exchange."
   ]
  },
  {
   "cell_type": "code",
   "execution_count": null,
   "metadata": {},
   "outputs": [],
   "source": [
    "symbol = 'ETH/BTC'\n",
    "type = 'limit'  # or 'market'\n",
    "side = 'buy'\n",
    "amount = 123.45  # your amount\n",
    "price = 115.321  # your price\n",
    "params = {\n",
    "    'stopLoss': {\n",
    "        'type': 'limit',  # or 'market', this field is not necessary if limit price is specified\n",
    "        'price': 100.33,  # limit price for a limit stop loss order\n",
    "        'triggerPrice': 101.25,\n",
    "    },\n",
    "    'takeProfit': {\n",
    "        'type': 'market',  # or 'limit', this field is not necessary if limit price is specified\n",
    "        # no limit price for a market take profit order\n",
    "        # 'price': 160.33,  # this field is not necessary for a market take profit order\n",
    "        'triggerPrice': 150.75,\n",
    "    }\n",
    "}\n",
    "order = exchange.create_order (symbol, type, side, amount, price, params)"
   ]
  },
  {
   "cell_type": "markdown",
   "metadata": {},
   "source": [
    "##### Trailing Orders\n",
    "- Trailing Orders trail behind an open position. Implemented by supplying float parameters for **trailingPercent** or **trailingAmount**.\n",
    "\n",
    "- A trailing order continually adjusts the order price at a fixed percent or fixed quote amount away from the current market price.\n",
    "- A trailing order trails behind a position as it moves in one direction, but not in the opposite direction.\n",
    "- If the position value rises, the trailing order changes, but if the position value drops the trailing order stays the same until the order is executed.\n",
    "- A trailing order can be placed independently after opening a position.\n",
    "- Implemented by filling in either the **trailingPercent** or **trailingAmount** parameter depending on the exchange.\n",
    "- The price argument can be used as the **trailingTriggerPrice**, and the type argument can be used to differentiate between limit and market trailing orders if needed."
   ]
  },
  {
   "cell_type": "code",
   "execution_count": null,
   "metadata": {},
   "outputs": [],
   "source": [
    "symbol = 'BTC/USDT:USDT'\n",
    "type = 'market'\n",
    "side = 'sell'\n",
    "amount = 1.0\n",
    "price = None\n",
    "params = {\n",
    "    'trailingPercent': 1.0, # percentage away from the current market price 1.0 is equal to 1%\n",
    "    # 'trailingAmount': 100.0, # quote amount away from the current market price\n",
    "    # 'trailingTriggerPrice': 44500.0, # the price to trigger activating a trailing stop order\n",
    "    # 'reduceOnly': True, # set to True if you want to close a position, set to False if you want to open a new position\n",
    "}\n",
    "order = exchange.create_order (symbol, type, side, amount, price, params)"
   ]
  },
  {
   "cell_type": "markdown",
   "metadata": {},
   "source": [
    "##### Custom Order Params\n",
    "- Some exchanges allow you to specify optional parameters for your order. You can pass your optional parameters and override your query with an associative array using the **params** argument to your unified API call. All custom params are exchange-specific, of course, and aren't interchangeable, do not expect those custom params for one exchange to work with another exchange."
   ]
  },
  {
   "cell_type": "code",
   "execution_count": null,
   "metadata": {},
   "outputs": [],
   "source": [
    "kraken = ccxt.kraken()\n",
    "kraken.create_market_buy_order(symbol, {'trading_agreement': 'agree'})"
   ]
  },
  {
   "cell_type": "markdown",
   "metadata": {},
   "source": [
    "- The user can specify a custom **clientOrderId** field can be set upon placing orders with the **params**. Using the **clientOrderId** one can later distinguish between own orders. This is only available for the exchanges that do support **clientOrderId** at this time. For the exchanges that don't support it will either throw an error upon supplying the **clientOrderId** or will ignore it setting the **clientOrderId** to **undefined/None/null**."
   ]
  },
  {
   "cell_type": "code",
   "execution_count": null,
   "metadata": {},
   "outputs": [],
   "source": [
    "kraken.create_order(symbol, type, side, amount, price, {\n",
    "    'clientOrderId': 'World',\n",
    "})"
   ]
  },
  {
   "cell_type": "markdown",
   "metadata": {},
   "source": [
    "##### Editing Orders\n",
    "- To edit an order, you can use the editOrder method"
   ]
  },
  {
   "cell_type": "code",
   "execution_count": null,
   "metadata": {},
   "outputs": [],
   "source": [
    "kraken.edit_order(id, symbol, type, side, amount, price = 130, params = {})"
   ]
  },
  {
   "cell_type": "markdown",
   "metadata": {},
   "source": [
    "### Personal Trades"
   ]
  },
  {
   "cell_type": "code",
   "execution_count": null,
   "metadata": {},
   "outputs": [],
   "source": [
    "# fetch_my_trades(symbol=None, since=None, limit=None, params={})\n",
    "\n",
    "if exchange.has['fetchMyTrades']:\n",
    "    exchange.fetch_my_trades(symbol=None, since=None, limit=None, params={})"
   ]
  },
  {
   "cell_type": "code",
   "execution_count": null,
   "metadata": {},
   "outputs": [],
   "source": [
    "trade_structure = {\n",
    "    'info':         { ... },                    // the original decoded JSON as is\n",
    "    'id':           '12345-67890:09876/54321',  // string trade id\n",
    "    'timestamp':    1502962946216,              // Unix timestamp in milliseconds\n",
    "    'datetime':     '2017-08-17 12:42:48.000',  // ISO8601 datetime with milliseconds\n",
    "    'symbol':       'ETH/BTC',                  // symbol\n",
    "    'order':        '12345-67890:09876/54321',  // string order id or undefined/None/null\n",
    "    'type':         'limit',                    // order type, 'market', 'limit' or undefined/None/null\n",
    "    'side':         'buy',                      // direction of the trade, 'buy' or 'sell'\n",
    "    'takerOrMaker': 'taker',                    // string, 'taker' or 'maker'\n",
    "    'price':        0.06917684,                 // float price in quote currency\n",
    "    'amount':       1.5,                        // amount of base currency\n",
    "    'cost':         0.10376526,                 // total cost, `price * amount`,\n",
    "    'fee':          {                           // provided by exchange or calculated by ccxt\n",
    "        'cost':  0.0015,                        // float\n",
    "        'currency': 'ETH',                      // usually base currency for buys, quote currency for sells\n",
    "        'rate': 0.002,                          // the fee rate (if available)\n",
    "    },\n",
    "    'fees': [                                   // an array of fees if paid in multiple currencies\n",
    "        {                                       // if provided by exchange or calculated by ccxt\n",
    "            'cost':  0.0015,                    // float\n",
    "            'currency': 'ETH',                  // usually base currency for buys, quote currency for sells\n",
    "            'rate': 0.002,                      // the fee rate (if available)\n",
    "        },\n",
    "    ],\n",
    "}"
   ]
  },
  {
   "cell_type": "markdown",
   "metadata": {},
   "source": [
    "### Trades By Order Id"
   ]
  },
  {
   "cell_type": "code",
   "execution_count": null,
   "metadata": {},
   "outputs": [],
   "source": [
    "# fetch_order_trades(id, symbol=None, since=None, limit=None, params={})\n",
    "order_id = 'binance'\n",
    "since = exchange.millisecobds() * 60 * 60 * 100\n",
    "limit = 10\n",
    "if exchange.has['fetchOrderTrades']:\n",
    "    exchange.fetch_order_trades(\n",
    "        order_id, \n",
    "        symbol='ETH/USDT', \n",
    "        since=since, \n",
    "        limit=limit, \n",
    "        params={}\n",
    "    )"
   ]
  },
  {
   "cell_type": "markdown",
   "metadata": {},
   "source": [
    "### Ledger\n",
    "- The ledger is simply the history of changes, actions done by the user or operations that altered the user's balance in any way, that is, the history of movements of all funds from/to all accounts of the user which includes\n",
    "\n",
    "    - deposits and withdrawals (funding)\n",
    "    - amounts incoming and outcoming in result of a trade or an order\n",
    "    - trading fees\n",
    "    - transfers between accounts\n",
    "    - rebates, cashbacks and other types of events that are subject to accounting.\n",
    "- Data on ledger entries can be retrieved using\n",
    "\n",
    "    - **fetchLedgerEntry()** for a ledger entry\n",
    "    - **fetchLedger( code )** for multiple ledger entries of the same currency\n",
    "    - **fetchLedger()** for all ledger entries"
   ]
  },
  {
   "cell_type": "markdown",
   "metadata": {},
   "source": [
    "### Ledger Entry Structure"
   ]
  },
  {
   "cell_type": "code",
   "execution_count": null,
   "metadata": {},
   "outputs": [],
   "source": [
    "ledger_entry_structure = {\n",
    "    'id': 'hqfl-f125f9l2c9',                // string id of the ledger entry, e.g. an order id\n",
    "    'direction': 'out',                     // or 'in'\n",
    "    'account': '06d4ab58-dfcd-468a',        // string id of the account if any\n",
    "    'referenceId': 'bf7a-d4441fb3fd31',     // string id of the trade, transaction, etc...\n",
    "    'referenceAccount': '3146-4286-bb71',   // string id of the opposite account (if any)\n",
    "    'type': 'trade',                        // string, reference type, see below\n",
    "    'currency': 'BTC',                      // string, unified currency code, 'ETH', 'USDT'...\n",
    "    'amount': 123.45,                       // absolute number, float (does not include the fee)\n",
    "    'timestamp': 1544582941735,             // milliseconds since epoch time in UTC\n",
    "    'datetime': \"2018-12-12T02:49:01.735Z\", // string of timestamp, ISO8601\n",
    "    'before': 0,                            // amount of currency on balance before\n",
    "    'after': 0,                             // amount of currency on balance after\n",
    "    'status': 'ok',                         // 'ok, 'pending', 'canceled'\n",
    "    'fee': {                                // object or undefined\n",
    "        'cost': 54.321,                     // absolute number on top of the amount\n",
    "        'currency': 'ETH',                  // string, unified currency code, 'ETH', 'USDT'...\n",
    "    },\n",
    "    'info': { ... },                        // raw ledger entry as is from the exchange\n",
    "}"
   ]
  },
  {
   "cell_type": "markdown",
   "metadata": {},
   "source": [
    "### Deposit\n",
    "- In order to deposit funds to an exchange you must get an address from the exchange for the currency you want to deposit there. Most of exchanges will create and manage those addresses for the user.\n",
    "\n",
    "- Data on deposits made to an account can be retrieved using\n",
    "\n",
    "    - **fetchDeposit()** for a single deposit\n",
    "    - **fetchDeposits( code )** for multiple deposits of the same currency\n",
    "    - **fetchDeposits()** for all deposits to an account"
   ]
  },
  {
   "cell_type": "code",
   "execution_count": null,
   "metadata": {},
   "outputs": [],
   "source": [
    "exchange.fetch_deposits(code = 'USDT', since = None, limit = None, params = {})"
   ]
  },
  {
   "cell_type": "markdown",
   "metadata": {},
   "source": [
    "### Withdrawal\n",
    "- The withdraw method can be used to withdraw funds from an account"
   ]
  },
  {
   "cell_type": "code",
   "execution_count": null,
   "metadata": {},
   "outputs": [],
   "source": [
    "exchange.withdraw(code='USDT', amount=150, address=None, tag=None, params={})"
   ]
  },
  {
   "cell_type": "markdown",
   "metadata": {},
   "source": [
    "#### Returns\n",
    "- A **transaction structure**\n",
    "\n",
    "- Data on withdrawals made to an account can be retrieved using\n",
    "\n",
    "    * **fetchWithdrawal()** for a single withdrawal\n",
    "    * **fetchWithdrawals( code )** for multiple withdrawals of the same currency\n",
    "    * **fetchWithdrawals()** for all withdrawals from an account"
   ]
  },
  {
   "cell_type": "markdown",
   "metadata": {},
   "source": [
    "#### Parameters\n",
    "\n",
    "- **id** (String) required Withdrawal id\n",
    "- **code** (String) Unified CCXT currency code (e.g. \"USDT\")\n",
    "- **params** (Dictionary) Parameters specific to the exchange API endpoint (e.g. *{\"network\": \"TRX\"})*"
   ]
  },
  {
   "cell_type": "code",
   "execution_count": null,
   "metadata": {},
   "outputs": [],
   "source": [
    "exchange.fetch_withdrawal(id, code = None, params = {})"
   ]
  },
  {
   "cell_type": "markdown",
   "metadata": {},
   "source": [
    "#### Parameters\n",
    "\n",
    "- **code** (String) Unified CCXT currency code (e.g. *\"USDT\")*\n",
    "- **since** (Integer) Timestamp (ms) of the earliest time to retrieve withdrawals for (e.g. *1646940314000*)\n",
    "- **limit** (Integer) The number of **transaction structures** to retrieve (e.g. *5*)\n",
    "- **params** (Dictionary) Parameters specific to the exchange API endpoint (e.g. *{\"endTime\": 1645807945000}*)\n",
    "\n",
    "##### Returns\n",
    "\n",
    "- An array of **transaction structures**"
   ]
  },
  {
   "cell_type": "code",
   "execution_count": null,
   "metadata": {},
   "outputs": [],
   "source": [
    "exchange.fetch_withdrawals(code = None, since = None, limit = None, params = {})"
   ]
  },
  {
   "cell_type": "markdown",
   "metadata": {},
   "source": [
    "### Deposit And Withdrawal Networks\n",
    "- It is also possible to pass the parameters as the fourth argument with or without a specified tag"
   ]
  },
  {
   "cell_type": "code",
   "execution_count": null,
   "metadata": {},
   "outputs": [],
   "source": [
    "exchange.withdraw(code=None, amount=amount, address=None, { 'tag': tag, 'network': 'ETH' })"
   ]
  },
  {
   "cell_type": "markdown",
   "metadata": {},
   "source": [
    "#### Transaction Structure\n",
    "- *deposit structure*\n",
    "- *withdrawal structure*"
   ]
  },
  {
   "cell_type": "code",
   "execution_count": null,
   "metadata": {},
   "outputs": [],
   "source": [
    "transaction_structure = {\n",
    "    'info':      { ... },    // the JSON response from the exchange as is\n",
    "    'id':       '123456',    // exchange-specific transaction id, string\n",
    "    'txid':     '0x68bfb29821c50ca35ef3762f887fd3211e4405aba1a94e448a4f218b850358f0',\n",
    "    'timestamp': 1534081184515,             // timestamp in milliseconds\n",
    "    'datetime': '2018-08-12T13:39:44.515Z', // ISO8601 string of the timestamp\n",
    "    'addressFrom': '0x38b1F8644ED1Dbd5DcAedb3610301Bf5fa640D6f', // sender\n",
    "    'address':  '0x02b0a9b7b4cDe774af0f8e47cb4f1c2ccdEa0806', // \"from\" or \"to\"\n",
    "    'addressTo': '0x304C68D441EF7EB0E2c056E836E8293BD28F8129', // receiver\n",
    "    'tagFrom', '0xabcdef', // \"tag\" or \"memo\" or \"payment_id\" associated with the sender\n",
    "    'tag':      '0xabcdef' // \"tag\" or \"memo\" or \"payment_id\" associated with the address\n",
    "    'tagTo': '0xhijgklmn', // \"tag\" or \"memo\" or \"payment_id\" associated with the receiver\n",
    "    'type':     'deposit',   // 'withdrawal' or 'transfer', string\n",
    "    'amount':    1.2345,     // float (does not include the fee)\n",
    "    'currency': 'ETH',       // a common unified currency code, string\n",
    "    'status':   'pending',   // 'ok', 'failed', 'canceled', string\n",
    "    'updated':   undefined,  // UTC timestamp of most recent status change in ms\n",
    "    'comment':  'a comment or message defined by the user if any',\n",
    "    'fee': {                 // the entire fee structure may be undefined\n",
    "        'currency': 'ETH',   // a unified fee currency code\n",
    "        'cost': 0.1234,      // float\n",
    "        'rate': undefined,   // approximately, fee['cost'] / amount, float\n",
    "    },\n",
    "}"
   ]
  },
  {
   "cell_type": "markdown",
   "metadata": {},
   "source": [
    "### fetchDeposits Examples"
   ]
  },
  {
   "cell_type": "code",
   "execution_count": null,
   "metadata": {},
   "outputs": [],
   "source": [
    "# fetch_deposits(code = None, since = None, limit = None, params = {})\n",
    "\n",
    "if exchange.has['fetchDeposits']:\n",
    "    deposits = exchange.fetch_deposits(code='USDT', since=since, limit=limit, params={})\n",
    "else:\n",
    "    raise Exception(exchange.id + ' does not have the fetch_deposits method')"
   ]
  },
  {
   "cell_type": "markdown",
   "metadata": {},
   "source": [
    "### fetchWithdrawals Examples"
   ]
  },
  {
   "cell_type": "code",
   "execution_count": null,
   "metadata": {},
   "outputs": [],
   "source": [
    "# fetch_withdrawals(code = None, since = None, limit = None, params = {})\n",
    "\n",
    "if exchange.has['fetchWithdrawals']:\n",
    "    withdrawals = exchange.fetch_withdrawals(code='USDT', since=since, limit=limit, params={})\n",
    "else:\n",
    "    raise Exception(exchange.id + ' does not have the fetch_withdrawals method')"
   ]
  },
  {
   "cell_type": "markdown",
   "metadata": {},
   "source": [
    "### fetchTransactions Examples"
   ]
  },
  {
   "cell_type": "code",
   "execution_count": null,
   "metadata": {},
   "outputs": [],
   "source": [
    "# fetch_transactions(code = None, since = None, limit = None, params = {})\n",
    "\n",
    "if exchange.has['fetchTransactions']:\n",
    "    transactions = exchange.fetch_transactions(code='USDT', since=since, limit=limit, params={})\n",
    "else:\n",
    "    raise Exception(exchange.id + ' does not have the fetch_transactions method')"
   ]
  },
  {
   "cell_type": "markdown",
   "metadata": {},
   "source": [
    "### Deposit Addresses\n",
    "- The address for depositing can be either an already existing address that was created previously with the exchange or it can be created upon request. In order to see which of the two methods are supported, check the **exchange.has['fetchDepositAddress']** and **exchange.has['createDepositAddress']** properties."
   ]
  },
  {
   "cell_type": "markdown",
   "metadata": {},
   "source": [
    "#### Parameters\n",
    "\n",
    "- **code** (String) required Unified CCXT currency code (e.g. \"USDT\")\n",
    "- **params** (Dictionary) Parameters specific to the exchange API endpoint (e.g. {\"endTime\": 1645807945000})"
   ]
  },
  {
   "cell_type": "code",
   "execution_count": null,
   "metadata": {},
   "outputs": [],
   "source": [
    "exchange.fetch_deposit_address (code=\"USDT\", params = {})\n",
    "exchange.create_deposit_address (code=\"USDT\", params = {})"
   ]
  },
  {
   "cell_type": "markdown",
   "metadata": {},
   "source": [
    "#### Parameters\n",
    "\n",
    "- **code** ([String]) Array of unified CCXT currency codes. May or may not be required depending on the exchange (e.g. [\"USDT\", \"BTC\"])\n",
    "- **params** (Dictionary) Parameters specific to the exchange API endpoint (e.g. {\"endTime\": 1645807945000})"
   ]
  },
  {
   "cell_type": "code",
   "execution_count": null,
   "metadata": {},
   "outputs": [],
   "source": [
    "exchange.fetch_deposit_addresses (codes = None, params = {})"
   ]
  },
  {
   "cell_type": "markdown",
   "metadata": {},
   "source": [
    "#### Parameters\n",
    "\n",
    "- **code** (String) required Unified CCXT currency code (e.g. \"USDT\")\n",
    "- **params** (Dictionary) Parameters specific to the exchange API endpoint (e.g. {\"endTime\": 1645807945000})"
   ]
  },
  {
   "cell_type": "code",
   "execution_count": null,
   "metadata": {},
   "outputs": [],
   "source": [
    "exchange.fetch_deposit_addresses_by_network(code=None, params = {})"
   ]
  },
  {
   "cell_type": "code",
   "execution_count": null,
   "metadata": {},
   "outputs": [],
   "source": [
    "#### Address Structure\n",
    "address_structure = {\n",
    "    'currency': currency, // currency code\n",
    "    'network': network,   // a list of deposit/withdraw networks, ERC20, TRC20, BSC20 (see below)\n",
    "    'address': address,   // address in terms of requested currency\n",
    "    'tag': tag,           // tag / memo / paymentId for particular currencies (XRP, XMR, ...)\n",
    "    'info': response,     // raw unparsed data as returned from the exchange\n",
    "}"
   ]
  },
  {
   "cell_type": "markdown",
   "metadata": {},
   "source": [
    "### Transfers\n",
    "- The **transfer** method makes internal transfers of funds between accounts on the same exchange. This can include subaccounts or accounts of different types (**spot, margin, future**, ...). If an exchange is separated on CCXT into a spot and futures class (e.g. **binanceusdm, kucoinfutures**, ...), then the method **transferIn** may be available to transfer funds into the futures account, and the method **transferOut** may be available to transfer funds out of the futures account"
   ]
  },
  {
   "cell_type": "markdown",
   "metadata": {},
   "source": [
    "#### Parameters\n",
    "\n",
    "- **code** (String) Unified CCXT currency code (e.g. *\"USDT\"*)\n",
    "- **amount** (Float) The amount of currency to transfer (e.g. *10.5*)\n",
    "- **fromAccount** (String) The account to transfer funds from.\n",
    "- **toAccount** (String) The account to transfer funds to.\n",
    "- **params** (Dictionary) Parameters specific to the exchange API endpoint (e.g. *{\"endTime\": 1645807945000}*)\n",
    "- **params.symbol** (String) Market symbol when transfering to or from a margin account (e.g. *'BTC/USDT'*)"
   ]
  },
  {
   "cell_type": "code",
   "execution_count": null,
   "metadata": {},
   "outputs": [],
   "source": [
    "exchange.transfer(code=None, amount=amount, fromAccount, toAccount, params = {})"
   ]
  },
  {
   "cell_type": "markdown",
   "metadata": {},
   "source": [
    "#### Transfer Structure"
   ]
  },
  {
   "cell_type": "code",
   "execution_count": null,
   "metadata": {},
   "outputs": [],
   "source": [
    "transfer_structure = {\n",
    "    info: { ... },\n",
    "    id: \"93920432048\",\n",
    "    timestamp: 1646764072000,\n",
    "    datetime: \"2022-03-08T18:27:52.000Z\",\n",
    "    currency: \"USDT\",\n",
    "    amount: 11.31,\n",
    "    fromAccount: \"spot\",\n",
    "    toAccount: \"future\",\n",
    "    status: \"ok\"\n",
    "}"
   ]
  },
  {
   "cell_type": "markdown",
   "metadata": {},
   "source": [
    "### Fees\n",
    "- This section of the Unified CCXT API is under development.\n",
    "\n",
    "- Fees are often grouped into two categories:\n",
    "\n",
    "    - Trading fees. Trading fee is the amount payable to the exchange, usually a percentage of volume traded (filled).\n",
    "    - Transaction fees. The amount payable to the exchange upon depositing and withdrawing as well as the underlying crypto transaction fees (tx fees).\n",
    "\n",
    "- Because the fee structure can depend on the actual volume of currencies traded by the user, the fees can be account-specific. Methods to work with account-specific fees:\n",
    "\n",
    "    - fetchTradingFee (symbol, params = {})\n",
    "    - fetchTradingFees (params = {})\n",
    "    - fetchDepositWithdrawFees (codes = undefined, params = {})\n",
    "    - fetchDepositWithdrawFee(code, params = {})\n",
    "- You call **fetchTradingFee/fetchTradingFees** to fetch the trading fees, **fetchDepositWithdrawFee/fetchDepositWithdrawFees** to fetch the deposit & withdraw fees."
   ]
  },
  {
   "cell_type": "markdown",
   "metadata": {},
   "source": [
    "#### Fee Structure\n",
    "- Orders, private trades, transactions and ledger entries may define the following info in their **fee** field:"
   ]
  },
  {
   "cell_type": "code",
   "execution_count": null,
   "metadata": {},
   "outputs": [],
   "source": [
    "fee_structure = {\n",
    "    'currency': 'BTC', // the unified fee currency code\n",
    "    'rate': percentage, // the fee rate, 0.05% = 0.0005, 1% = 0.01, ...\n",
    "    'cost': feePaid, // the fee cost (amount * fee rate)\n",
    "}"
   ]
  },
  {
   "cell_type": "markdown",
   "metadata": {},
   "source": [
    "### Trading Fees"
   ]
  },
  {
   "cell_type": "code",
   "execution_count": null,
   "metadata": {},
   "outputs": [],
   "source": [
    "exchange.calculate_fee(symbol, type, side, amount, price, takerOrMaker = 'taker', params = {})"
   ]
  },
  {
   "cell_type": "markdown",
   "metadata": {},
   "source": [
    "- The **calculateFee** method will return a unified fee structure with precalculated fees for an order with specified params.\n",
    "\n",
    "- Accessing trading fee rates should be done via the **.markets** property, like so:"
   ]
  },
  {
   "cell_type": "code",
   "execution_count": null,
   "metadata": {},
   "outputs": [],
   "source": [
    "exchange.markets['ETH/BTC']['taker'] # taker fee rate for ETH/BTC\n",
    "exchange.markets['BTC/USD']['maker'] # maker fee rate for BTC/USD"
   ]
  },
  {
   "cell_type": "markdown",
   "metadata": {},
   "source": [
    "### Trading Fee Schedule\n",
    "- Some exchanges have an endpoint for fetching the trading fee schedule, this is mapped to the unified methods **fetchTradingFees**, and ****fetchTradingFee**\n",
    "    - **fetchTradingFee (symbol, params = {})**\n",
    "\n",
    "#### Parameters\n",
    "- **symbol** (String) required Unified market symbol (e.g. \"BTC/USDT\")\n",
    "- **params** (Dictionary) Parameters specific to the exchange API endpoint (e.g. *{\"currency\": \"quote\"}*)"
   ]
  },
  {
   "cell_type": "markdown",
   "metadata": {},
   "source": [
    "#### Trading Fee Structure"
   ]
  },
  {
   "cell_type": "code",
   "execution_count": null,
   "metadata": {},
   "outputs": [],
   "source": [
    "trading_fee_structure = {\n",
    "    'ETH/BTC': {\n",
    "        'maker': 0.001,\n",
    "        'taker': 0.002,\n",
    "        'info': { ... },\n",
    "        'symbol': 'ETH/BTC',\n",
    "    },\n",
    "    'LTC/BTC': {\n",
    "        'maker': 0.001,\n",
    "        'taker': 0.002,\n",
    "        'info': { ... },\n",
    "        'symbol': 'LTC/BTC',\n",
    "    },\n",
    "}"
   ]
  },
  {
   "cell_type": "markdown",
   "metadata": {},
   "source": [
    "### Transaction Fees"
   ]
  },
  {
   "cell_type": "code",
   "execution_count": null,
   "metadata": {},
   "outputs": [],
   "source": [
    "exchange.currencies['ETH']['fee'] # tx/withdrawal fee rate for ETH\n",
    "exchange.currencies['BTC']['fee'] # tx/withdrawal fee rate for BTC"
   ]
  },
  {
   "cell_type": "markdown",
   "metadata": {},
   "source": [
    "### Transaction Fee Schedule\n",
    "- Some exchanges have an endpoint for fetching the transaction fee schedule, this is mapped to the unified methods\n",
    "\n",
    "    - **fetchTransactionFee()** for a single transaction fee schedule\n",
    "    - **fetchTransactionFees()** for all transaction fee schedules"
   ]
  },
  {
   "cell_type": "markdown",
   "metadata": {},
   "source": [
    "#### Parameters\n",
    "- **code** (String) required Unified CCXT currency code, required (e.g. \"USDT\")\n",
    "- **params** (Dictionary) Parameters specific to the exchange API endpoint (e.g. {\"type\": \"deposit\"})\n",
    "- **params.network** (String) Specify unified CCXT network (e.g. {\"network\": \"TRC20\"})"
   ]
  },
  {
   "cell_type": "code",
   "execution_count": null,
   "metadata": {},
   "outputs": [],
   "source": [
    "exchange.fetch_transaction_fees(\n",
    "    codes = None, \n",
    "    params = {'type': 'deposit'},\n",
    "    params.network = {'network': 'TRC20'},\n",
    ")"
   ]
  },
  {
   "cell_type": "markdown",
   "metadata": {},
   "source": [
    "#### Transaction Fee Structure"
   ]
  },
  {
   "cell_type": "code",
   "execution_count": null,
   "metadata": {},
   "outputs": [],
   "source": [
    "transaction_fee_structure = {\n",
    "    'withdraw': {\n",
    "        'BTC': 0.00001,\n",
    "        'ETH': 0.001,\n",
    "        'LTC': 0.0003,\n",
    "    },\n",
    "    'deposit': {\n",
    "        'BTC': 0,\n",
    "    },\n",
    "    'info': { ... },\n",
    "}"
   ]
  },
  {
   "cell_type": "markdown",
   "metadata": {},
   "source": [
    "### Borrow Interest"
   ]
  },
  {
   "cell_type": "code",
   "execution_count": null,
   "metadata": {},
   "outputs": [],
   "source": [
    "exchange.fetch_borrow_interest(code = None, symbol = None, since = None, limit = None, params = {'endTime': 1645807945000})"
   ]
  },
  {
   "cell_type": "markdown",
   "metadata": {},
   "source": [
    "#### Borrow Interest Structure"
   ]
  },
  {
   "cell_type": "code",
   "execution_count": null,
   "metadata": {},
   "outputs": [],
   "source": [
    "borrow_interest_structure = {\n",
    "    account: 'BTC/USDT',                    # The market that the interest was accrued in\n",
    "    currency: 'USDT',                       # The currency of the interest\n",
    "    interest: 0.00004842,                   # The amount of interest that was charged\n",
    "    interestRate: 0.0002,                   # The borrow interest rate\n",
    "    amountBorrowed: 5.81,                   # The amount of currency that was borrowed\n",
    "    timestamp: 1648699200000,               # The timestamp that the interest was charged\n",
    "    datetime: '2022-03-31T04:00:00.000Z',   # The datetime that the interest was charged\n",
    "    info: { ... }                           # Unparsed exchange response\n",
    "}"
   ]
  },
  {
   "cell_type": "markdown",
   "metadata": {},
   "source": [
    "### Borrow And Repay Margin\n",
    "*margin only*\n",
    "\n",
    "- To borrow and repay currency as a margin loan use **borrowMargin** and **repayMargin**."
   ]
  },
  {
   "cell_type": "code",
   "execution_count": null,
   "metadata": {},
   "outputs": [],
   "source": [
    "exchange.borrow_margin(code=None, amount=amount, symbol = None, params = {\"rate\": 0.002})\n",
    "exchange.repay_margin (code=None, amount=None, symbol = None, params = {\"rate\": 0.002})"
   ]
  },
  {
   "cell_type": "markdown",
   "metadata": {},
   "source": [
    "#### Margin Loan Structure"
   ]
  },
  {
   "cell_type": "code",
   "execution_count": null,
   "metadata": {},
   "outputs": [],
   "source": [
    "margin_loan_structure = {\n",
    "    id: '1234323',                          # integer, the transaction id\n",
    "    currency: 'USDT',                       # string, the currency that is borrowed or repaid\n",
    "    amount: 5.81,                           # float, the amount of currency that was borrowed or repaid\n",
    "    symbol: 'BTC/USDT:USDT',                # string, unified market symbol\n",
    "    timestamp: 1648699200000,               # integer, the timestamp of when the transaction was made\n",
    "    datetime: '2022-03-31T04:00:00.000Z',   # string, the datetime of when the transaction was made\n",
    "    info: { ... }                           # Unparsed exchange response\n",
    "}"
   ]
  }
 ],
 "metadata": {
  "kernelspec": {
   "display_name": "venv",
   "language": "python",
   "name": "python3"
  },
  "language_info": {
   "codemirror_mode": {
    "name": "ipython",
    "version": 3
   },
   "file_extension": ".py",
   "mimetype": "text/x-python",
   "name": "python",
   "nbconvert_exporter": "python",
   "pygments_lexer": "ipython3",
   "version": "3.11.9"
  }
 },
 "nbformat": 4,
 "nbformat_minor": 2
}
